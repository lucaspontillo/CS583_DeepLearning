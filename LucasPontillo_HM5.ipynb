{
  "nbformat": 4,
  "nbformat_minor": 0,
  "metadata": {
    "accelerator": "GPU",
    "colab": {
      "name": "LucasPontillo_HM5.ipynb",
      "provenance": [],
      "collapsed_sections": []
    },
    "kernelspec": {
      "display_name": "Python 3",
      "language": "python",
      "name": "python3"
    },
    "language_info": {
      "codemirror_mode": {
        "name": "ipython",
        "version": 3
      },
      "file_extension": ".py",
      "mimetype": "text/x-python",
      "name": "python",
      "nbconvert_exporter": "python",
      "pygments_lexer": "ipython3",
      "version": "3.6.4"
    }
  },
  "cells": [
    {
      "cell_type": "markdown",
      "metadata": {
        "id": "d8IxdexPil_W"
      },
      "source": [
        "# Home 5: Build a seq2seq model for machine translation.\n",
        "\n",
        "### Name: Lucas Pontillo\n",
        "### Task: Translate English to Italian"
      ]
    },
    {
      "cell_type": "markdown",
      "metadata": {
        "id": "hGvItjc4il_Y"
      },
      "source": [
        "## 0. You will do the following:\n",
        "\n",
        "1. Read and run my code.\n",
        "2. Complete the code in Section 1.1 and Section 4.2.\n",
        "\n",
        "    * Translation **English** to **German** is not acceptable!!! Try another pair of languages.\n",
        "    \n",
        "3. **Make improvements.** Directly modify the code in Section 3. Do at least one of the two. By doing both correctly, you will get up to 1 bonus score to the total.\n",
        "\n",
        "    * Bi-LSTM instead of LSTM.\n",
        "        \n",
        "    * Attention. (You are allowed to use existing code.)\n",
        "    \n",
        "4. Evaluate the translation using the BLEU score. \n",
        "\n",
        "    * Optional. Up to 1 bonus scores to the total.\n",
        "    \n",
        "5. Convert the notebook to .HTML file. \n",
        "\n",
        "    * The HTML file must contain the code and the output after execution.\n",
        "\n",
        "6. Put the .HTML file in your Google Drive, Dropbox, or Github repo.  (If you submit the file to Google Drive or Dropbox, you must make the file \"open-access\". The delay caused by \"deny of access\" may result in late penalty.)\n",
        "\n",
        "7. Submit the link to the HTML file to Canvas.    \n"
      ]
    },
    {
      "cell_type": "markdown",
      "metadata": {
        "id": "fWp_W9VJil_a"
      },
      "source": [
        "### Hint: \n",
        "\n",
        "To implement ```Bi-LSTM```, you will need the following code to build the encoder. Do NOT use Bi-LSTM for the decoder."
      ]
    },
    {
      "cell_type": "code",
      "metadata": {
        "id": "i5hRd1Jnil_a"
      },
      "source": [
        "#from keras.layers import Bidirectional, Concatenate\n",
        "\n",
        "#encoder_bilstm = Bidirectional(LSTM(latent_dim, return_state=True, \n",
        "#                                  dropout=0.5, name='encoder_lstm'))\n",
        "#_, forward_h, forward_c, backward_h, backward_c = encoder_bilstm(encoder_inputs)\n",
        "#\n",
        "#state_h = Concatenate()([forward_h, backward_h])\n",
        "#state_c = Concatenate()([forward_c, backward_c])"
      ],
      "execution_count": null,
      "outputs": []
    },
    {
      "cell_type": "markdown",
      "metadata": {
        "id": "MD5eB5Byil_a"
      },
      "source": [
        "## 1. Data preparation\n",
        "\n",
        "1. Download data (e.g., \"deu-eng.zip\") from http://www.manythings.org/anki/\n",
        "2. Unzip the .ZIP file.\n",
        "3. Put the .TXT file (e.g., \"deu.txt\") in the directory \"./Data/\"."
      ]
    },
    {
      "cell_type": "markdown",
      "metadata": {
        "id": "3l1c6yKYil_b"
      },
      "source": [
        "### 1.1. Load and clean text\n"
      ]
    },
    {
      "cell_type": "code",
      "metadata": {
        "id": "yzWpmWgXil_c"
      },
      "source": [
        "import re\n",
        "import string\n",
        "from unicodedata import normalize\n",
        "import numpy\n",
        "\n",
        "\n",
        "# load doc into memory\n",
        "def load_doc(filename):\n",
        "    # open the file as read only\n",
        "    file = open(filename, mode='rt', encoding='utf-8')\n",
        "    # read all text\n",
        "    text = file.read()\n",
        "    # close the file\n",
        "    file.close()\n",
        "    return text\n",
        "\n",
        "\n",
        "# split a loaded document into sentences\n",
        "def to_pairs(doc):\n",
        "    lines = doc.strip().split('\\n')\n",
        "    pairs = [line.split('\\t') for line in  lines]\n",
        "    return pairs\n",
        "\n",
        "def clean_data(lines):\n",
        "    cleaned = list()\n",
        "    # prepare regex for char filtering\n",
        "    re_print = re.compile('[^%s]' % re.escape(string.printable))\n",
        "    # prepare translation table for removing punctuation\n",
        "    table = str.maketrans('', '', string.punctuation)\n",
        "    for pair in lines:\n",
        "        clean_pair = list()\n",
        "        for line in pair:\n",
        "            # normalize unicode characters\n",
        "            line = normalize('NFD', line).encode('ascii', 'ignore')\n",
        "            line = line.decode('UTF-8')\n",
        "            # tokenize on white space\n",
        "            line = line.split()\n",
        "            # convert to lowercase\n",
        "            line = [word.lower() for word in line]\n",
        "            # remove punctuation from each token\n",
        "            line = [word.translate(table) for word in line]\n",
        "            # remove non-printable chars form each token\n",
        "            line = [re_print.sub('', w) for w in line]\n",
        "            # remove tokens with numbers in them\n",
        "            line = [word for word in line if word.isalpha()]\n",
        "            # store as string\n",
        "            clean_pair.append(' '.join(line))\n",
        "        cleaned.append(clean_pair)\n",
        "    return numpy.array(cleaned)"
      ],
      "execution_count": null,
      "outputs": []
    },
    {
      "cell_type": "markdown",
      "metadata": {
        "id": "0PZkWtQQil_c"
      },
      "source": [
        "#### Fill the following blanks:"
      ]
    },
    {
      "cell_type": "code",
      "metadata": {
        "colab": {
          "resources": {
            "http://localhost:8080/nbextensions/google.colab/files.js": {
              "data": "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",
              "ok": true,
              "headers": [
                [
                  "content-type",
                  "application/javascript"
                ]
              ],
              "status": 200,
              "status_text": ""
            }
          },
          "base_uri": "https://localhost:8080/",
          "height": 72
        },
        "id": "VIbK2pXDs9K4",
        "outputId": "744caafb-9ecc-4a70-9b22-81205debd079"
      },
      "source": [
        "from google.colab import files\n",
        "\n",
        "uploaded = files.upload()\n"
      ],
      "execution_count": null,
      "outputs": [
        {
          "output_type": "display_data",
          "data": {
            "text/html": [
              "\n",
              "     <input type=\"file\" id=\"files-54ac0042-d550-4009-b223-fbedce3bb6cf\" name=\"files[]\" multiple disabled\n",
              "        style=\"border:none\" />\n",
              "     <output id=\"result-54ac0042-d550-4009-b223-fbedce3bb6cf\">\n",
              "      Upload widget is only available when the cell has been executed in the\n",
              "      current browser session. Please rerun this cell to enable.\n",
              "      </output>\n",
              "      <script src=\"/nbextensions/google.colab/files.js\"></script> "
            ],
            "text/plain": [
              "<IPython.core.display.HTML object>"
            ]
          },
          "metadata": {
            "tags": []
          }
        },
        {
          "output_type": "stream",
          "text": [
            "Saving ita.txt to ita (9).txt\n"
          ],
          "name": "stdout"
        }
      ]
    },
    {
      "cell_type": "code",
      "metadata": {
        "id": "stoNk7NBil_d"
      },
      "source": [
        "# e.g., filename = 'Data/deu.txt'\n",
        "filename = 'ita.txt'\n",
        "\n",
        "# e.g., n_train = 20000\n",
        "n_train = 30000"
      ],
      "execution_count": null,
      "outputs": []
    },
    {
      "cell_type": "code",
      "metadata": {
        "id": "WcnVjKSwil_d"
      },
      "source": [
        "# load dataset\n",
        "doc = load_doc(filename)\n",
        "\n",
        "# split into Language1-Language2 pairs\n",
        "pairs = to_pairs(doc)\n",
        "\n",
        "# clean sentences\n",
        "clean_pairs = clean_data(pairs)[0:n_train, :]"
      ],
      "execution_count": null,
      "outputs": []
    },
    {
      "cell_type": "code",
      "metadata": {
        "id": "CvNUFsHLil_e",
        "colab": {
          "base_uri": "https://localhost:8080/"
        },
        "outputId": "a75fe965-56c0-4268-c0aa-81568d3966ae"
      },
      "source": [
        "for i in range(3000, 3010):\n",
        "    print('[' + clean_pairs[i, 0] + '] => [' + clean_pairs[i, 1] + ']')"
      ],
      "execution_count": null,
      "outputs": [
        {
          "output_type": "stream",
          "text": [
            "[i resigned] => [diedi le dimissioni]\n",
            "[i resigned] => [io diedi le dimissioni]\n",
            "[i saw them] => [li ho visti]\n",
            "[i saw them] => [io li ho visti]\n",
            "[i saw them] => [le ho viste]\n",
            "[i saw them] => [io le ho viste]\n",
            "[i screamed] => [ho urlato]\n",
            "[i screamed] => [io ho urlato]\n",
            "[i screamed] => [urlai]\n",
            "[i screamed] => [io urlai]\n"
          ],
          "name": "stdout"
        }
      ]
    },
    {
      "cell_type": "code",
      "metadata": {
        "id": "lIOw31eRil_e",
        "colab": {
          "base_uri": "https://localhost:8080/"
        },
        "outputId": "d794d751-9f8d-432a-efea-c4a379d158e7"
      },
      "source": [
        "input_texts = clean_pairs[:, 0]\n",
        "target_texts = ['\\t' + text + '\\n' for text in clean_pairs[:, 1]]\n",
        "\n",
        "print('Length of input_texts:  ' + str(input_texts.shape))\n",
        "print('Length of target_texts: ' + str(input_texts.shape))"
      ],
      "execution_count": null,
      "outputs": [
        {
          "output_type": "stream",
          "text": [
            "Length of input_texts:  (30000,)\n",
            "Length of target_texts: (30000,)\n"
          ],
          "name": "stdout"
        }
      ]
    },
    {
      "cell_type": "code",
      "metadata": {
        "id": "4ra1QNl5il_e",
        "colab": {
          "base_uri": "https://localhost:8080/"
        },
        "outputId": "c41c12a4-afae-4f05-8eb6-4f0ef923ded2"
      },
      "source": [
        "max_encoder_seq_length = max(len(line) for line in input_texts)\n",
        "max_decoder_seq_length = max(len(line) for line in target_texts)\n",
        "\n",
        "print('max length of input  sentences: %d' % (max_encoder_seq_length))\n",
        "print('max length of target sentences: %d' % (max_decoder_seq_length))"
      ],
      "execution_count": null,
      "outputs": [
        {
          "output_type": "stream",
          "text": [
            "max length of input  sentences: 15\n",
            "max length of target sentences: 45\n"
          ],
          "name": "stdout"
        }
      ]
    },
    {
      "cell_type": "markdown",
      "metadata": {
        "id": "3XSd-EFFil_e"
      },
      "source": [
        "**Remark:** To this end, you have two lists of sentences: input_texts and target_texts"
      ]
    },
    {
      "cell_type": "markdown",
      "metadata": {
        "id": "Urvx4ZN-il_f"
      },
      "source": [
        "## 2. Text processing\n",
        "\n",
        "### 2.1. Convert texts to sequences\n",
        "\n",
        "- Input: A list of $n$ sentences (with max length $t$).\n",
        "- It is represented by a $n\\times t$ matrix after the tokenization and zero-padding."
      ]
    },
    {
      "cell_type": "code",
      "metadata": {
        "id": "S5tsMtdDil_g",
        "colab": {
          "base_uri": "https://localhost:8080/"
        },
        "outputId": "096083b7-4357-4470-a75e-57da799de5f8"
      },
      "source": [
        "from keras.preprocessing.text import Tokenizer\n",
        "from keras.preprocessing.sequence import pad_sequences\n",
        "\n",
        "# encode and pad sequences\n",
        "def text2sequences(max_len, lines):\n",
        "    tokenizer = Tokenizer(char_level=True, filters='')\n",
        "    tokenizer.fit_on_texts(lines)\n",
        "    seqs = tokenizer.texts_to_sequences(lines)\n",
        "    seqs_pad = pad_sequences(seqs, maxlen=max_len, padding='post')\n",
        "    return seqs_pad, tokenizer.word_index, tokenizer\n",
        "\n",
        "\n",
        "encoder_input_seq, input_token_index, tokenizer1 = text2sequences(max_encoder_seq_length, \n",
        "                                                      input_texts)\n",
        "decoder_input_seq, target_token_index, tokenizer1 = text2sequences(max_decoder_seq_length, \n",
        "                                                       target_texts)\n",
        "\n",
        "print('shape of encoder_input_seq: ' + str(encoder_input_seq.shape))\n",
        "print('shape of input_token_index: ' + str(len(input_token_index)))\n",
        "print('shape of decoder_input_seq: ' + str(decoder_input_seq.shape))\n",
        "print('shape of target_token_index: ' + str(len(target_token_index)))"
      ],
      "execution_count": null,
      "outputs": [
        {
          "output_type": "stream",
          "text": [
            "shape of encoder_input_seq: (30000, 15)\n",
            "shape of input_token_index: 27\n",
            "shape of decoder_input_seq: (30000, 45)\n",
            "shape of target_token_index: 29\n"
          ],
          "name": "stdout"
        }
      ]
    },
    {
      "cell_type": "code",
      "metadata": {
        "id": "m_-Jrxw6il_g",
        "colab": {
          "base_uri": "https://localhost:8080/"
        },
        "outputId": "666815f6-ace3-41b6-891c-f685423e2912"
      },
      "source": [
        "num_encoder_tokens = len(input_token_index) + 1\n",
        "num_decoder_tokens = len(target_token_index) + 1\n",
        "\n",
        "print('num_encoder_tokens: ' + str(num_encoder_tokens))\n",
        "print('num_decoder_tokens: ' + str(num_decoder_tokens))"
      ],
      "execution_count": null,
      "outputs": [
        {
          "output_type": "stream",
          "text": [
            "num_encoder_tokens: 28\n",
            "num_decoder_tokens: 30\n"
          ],
          "name": "stdout"
        }
      ]
    },
    {
      "cell_type": "markdown",
      "metadata": {
        "id": "mEdwuEA_il_g"
      },
      "source": [
        "**Remark:** To this end, the input language and target language texts are converted to 2 matrices. \n",
        "\n",
        "- Their number of rows are both n_train.\n",
        "- Their number of columns are respective max_encoder_seq_length and max_decoder_seq_length."
      ]
    },
    {
      "cell_type": "markdown",
      "metadata": {
        "id": "Ow31-iqVil_h"
      },
      "source": [
        "The followings print a sentence and its representation as a sequence."
      ]
    },
    {
      "cell_type": "code",
      "metadata": {
        "id": "76AH0ONiil_h",
        "colab": {
          "base_uri": "https://localhost:8080/",
          "height": 35
        },
        "outputId": "9eb62d4f-af50-4e91-ffa2-07fbe6d2248c"
      },
      "source": [
        "target_texts[100]"
      ],
      "execution_count": null,
      "outputs": [
        {
          "output_type": "execute_result",
          "data": {
            "application/vnd.google.colaboratory.intrinsic+json": {
              "type": "string"
            },
            "text/plain": [
              "'\\tcapita\\n'"
            ]
          },
          "metadata": {
            "tags": []
          },
          "execution_count": 11
        }
      ]
    },
    {
      "cell_type": "code",
      "metadata": {
        "id": "G0QmgpYuil_h",
        "colab": {
          "base_uri": "https://localhost:8080/"
        },
        "outputId": "96d3d0ff-ced4-4cd0-8b81-9b64af66dc90"
      },
      "source": [
        "decoder_input_seq[100, :]"
      ],
      "execution_count": null,
      "outputs": [
        {
          "output_type": "execute_result",
          "data": {
            "text/plain": [
              "array([ 7, 14,  3, 17,  4,  6,  3,  8,  0,  0,  0,  0,  0,  0,  0,  0,  0,\n",
              "        0,  0,  0,  0,  0,  0,  0,  0,  0,  0,  0,  0,  0,  0,  0,  0,  0,\n",
              "        0,  0,  0,  0,  0,  0,  0,  0,  0,  0,  0], dtype=int32)"
            ]
          },
          "metadata": {
            "tags": []
          },
          "execution_count": 12
        }
      ]
    },
    {
      "cell_type": "markdown",
      "metadata": {
        "id": "WhrDONx1il_i"
      },
      "source": [
        "## 2.2. One-hot encode\n",
        "\n",
        "- Input: A list of $n$ sentences (with max length $t$).\n",
        "- It is represented by a $n\\times t$ matrix after the tokenization and zero-padding.\n",
        "- It is represented by a $n\\times t \\times v$ tensor ($t$ is the number of unique chars) after the one-hot encoding."
      ]
    },
    {
      "cell_type": "code",
      "metadata": {
        "id": "qY0eLE2oil_i",
        "colab": {
          "base_uri": "https://localhost:8080/"
        },
        "outputId": "f232f95e-4c56-42ef-8903-424acc95044d"
      },
      "source": [
        "from keras.utils import to_categorical\n",
        "\n",
        "# one hot encode target sequence\n",
        "def onehot_encode(sequences, max_len, vocab_size):\n",
        "    n = len(sequences)\n",
        "    data = numpy.zeros((n, max_len, vocab_size))\n",
        "    for i in range(n):\n",
        "        data[i, :, :] = to_categorical(sequences[i], num_classes=vocab_size)\n",
        "    return data\n",
        "\n",
        "encoder_input_data = onehot_encode(encoder_input_seq, max_encoder_seq_length, num_encoder_tokens)\n",
        "decoder_input_data = onehot_encode(decoder_input_seq, max_decoder_seq_length, num_decoder_tokens)\n",
        "\n",
        "decoder_target_seq = numpy.zeros(decoder_input_seq.shape)\n",
        "decoder_target_seq[:, 0:-1] = decoder_input_seq[:, 1:]\n",
        "decoder_target_data = onehot_encode(decoder_target_seq, \n",
        "                                    max_decoder_seq_length, \n",
        "                                    num_decoder_tokens)\n",
        "\n",
        "print(encoder_input_data.shape)\n",
        "print(decoder_input_data.shape)"
      ],
      "execution_count": null,
      "outputs": [
        {
          "output_type": "stream",
          "text": [
            "(30000, 15, 28)\n",
            "(30000, 45, 30)\n"
          ],
          "name": "stdout"
        }
      ]
    },
    {
      "cell_type": "markdown",
      "metadata": {
        "id": "aVubkr20il_i"
      },
      "source": [
        "## 3. Build the networks (for training)\n",
        "\n",
        "- Build encoder, decoder, and connect the two modules to get \"model\". \n",
        "\n",
        "- Fit the model on the bilingual data to train the parameters in the encoder and decoder."
      ]
    },
    {
      "cell_type": "markdown",
      "metadata": {
        "id": "97nTNGRgil_j"
      },
      "source": [
        "### 3.1. Encoder network\n",
        "\n",
        "- Input:  one-hot encode of the input language\n",
        "\n",
        "- Return: \n",
        "\n",
        "    -- output (all the hidden states   $h_1, \\cdots , h_t$) are always discarded\n",
        "    \n",
        "    -- the final hidden state  $h_t$\n",
        "    \n",
        "    -- the final conveyor belt $c_t$"
      ]
    },
    {
      "cell_type": "code",
      "metadata": {
        "id": "DcbW7NzNil_j"
      },
      "source": [
        "from keras.layers import Input, LSTM\n",
        "from keras.models import Model\n",
        "from keras.layers import Bidirectional, Concatenate\n",
        "\n",
        "latent_dim = 256\n",
        "\n",
        "# inputs of the encoder network\n",
        "encoder_inputs = Input(shape=(None, num_encoder_tokens), \n",
        "                       name='encoder_inputs')\n",
        "\n",
        "# set the LSTM layer\n",
        "encoder_bilstm = Bidirectional(LSTM(latent_dim, return_state=True, \n",
        "                                  dropout=0.5, name='encoder_lstm'))\n",
        "_, forward_h, forward_c, backward_h, backward_c = encoder_bilstm(encoder_inputs)\n",
        "\n",
        "state_h = Concatenate()([forward_h, backward_h])\n",
        "state_c = Concatenate()([forward_c, backward_c])\n",
        "\n",
        "# build the encoder network model\n",
        "encoder_model = Model(inputs=encoder_inputs, \n",
        "                      outputs=[state_h, state_c],\n",
        "                      name='encoder')\n",
        "\n",
        "\n",
        "\n",
        "\n"
      ],
      "execution_count": null,
      "outputs": []
    },
    {
      "cell_type": "markdown",
      "metadata": {
        "id": "PAJ3Uko5il_j"
      },
      "source": [
        "Print a summary and save the encoder network structure to \"./encoder.pdf\""
      ]
    },
    {
      "cell_type": "code",
      "metadata": {
        "id": "DNZFHocDil_j",
        "colab": {
          "base_uri": "https://localhost:8080/"
        },
        "outputId": "be7fd8ef-c7c9-407b-bc2c-a9ca1c512795"
      },
      "source": [
        "from IPython.display import SVG\n",
        "from keras.utils.vis_utils import model_to_dot, plot_model\n",
        "\n",
        "SVG(model_to_dot(encoder_model, show_shapes=False).create(prog='dot', format='svg'))\n",
        "\n",
        "plot_model(\n",
        "    model=encoder_model, show_shapes=False,\n",
        "    to_file='encoder.pdf'\n",
        ")\n",
        "\n",
        "encoder_model.summary()"
      ],
      "execution_count": null,
      "outputs": [
        {
          "output_type": "stream",
          "text": [
            "Model: \"encoder\"\n",
            "__________________________________________________________________________________________________\n",
            "Layer (type)                    Output Shape         Param #     Connected to                     \n",
            "==================================================================================================\n",
            "encoder_inputs (InputLayer)     [(None, None, 28)]   0                                            \n",
            "__________________________________________________________________________________________________\n",
            "bidirectional (Bidirectional)   [(None, 512), (None, 583680      encoder_inputs[0][0]             \n",
            "__________________________________________________________________________________________________\n",
            "concatenate (Concatenate)       (None, 512)          0           bidirectional[0][1]              \n",
            "                                                                 bidirectional[0][3]              \n",
            "__________________________________________________________________________________________________\n",
            "concatenate_1 (Concatenate)     (None, 512)          0           bidirectional[0][2]              \n",
            "                                                                 bidirectional[0][4]              \n",
            "==================================================================================================\n",
            "Total params: 583,680\n",
            "Trainable params: 583,680\n",
            "Non-trainable params: 0\n",
            "__________________________________________________________________________________________________\n"
          ],
          "name": "stdout"
        }
      ]
    },
    {
      "cell_type": "markdown",
      "metadata": {
        "id": "ta-hT4XJil_k"
      },
      "source": [
        "### 3.2. Decoder network\n",
        "\n",
        "- Inputs:  \n",
        "\n",
        "    -- one-hot encode of the target language\n",
        "    \n",
        "    -- The initial hidden state $h_t$ \n",
        "    \n",
        "    -- The initial conveyor belt $c_t$ \n",
        "\n",
        "- Return: \n",
        "\n",
        "    -- output (all the hidden states) $h_1, \\cdots , h_t$\n",
        "\n",
        "    -- the final hidden state  $h_t$ (discarded in the training and used in the prediction)\n",
        "    \n",
        "    -- the final conveyor belt $c_t$ (discarded in the training and used in the prediction)"
      ]
    },
    {
      "cell_type": "code",
      "metadata": {
        "id": "D8eXxMEYil_k"
      },
      "source": [
        "from keras.layers import Input, LSTM, Dense\n",
        "from keras.models import Model\n",
        "\n",
        "# inputs of the decoder network\n",
        "decoder_input_h = Input(shape=(latent_dim*2,), name='decoder_input_h')\n",
        "decoder_input_c = Input(shape=(latent_dim*2,), name='decoder_input_c')\n",
        "decoder_input_x = Input(shape=(None, num_decoder_tokens), name='decoder_input_x')\n",
        "\n",
        "# set the LSTM layer\n",
        "decoder_lstm = LSTM(latent_dim*2, return_sequences=True, \n",
        "                    return_state=True, dropout=0.5, name='decoder_lstm')\n",
        "decoder_lstm_outputs, state_h, state_c = decoder_lstm(decoder_input_x, \n",
        "                                                      initial_state=[decoder_input_h, decoder_input_c])\n",
        "\n",
        "# set the dense layer\n",
        "decoder_dense = Dense(num_decoder_tokens, activation='softmax', name='decoder_dense')\n",
        "decoder_outputs = decoder_dense(decoder_lstm_outputs)\n",
        "\n",
        "# build the decoder network model\n",
        "decoder_model = Model(inputs=[decoder_input_x, decoder_input_h, decoder_input_c],\n",
        "                      outputs=[decoder_outputs, state_h, state_c],\n",
        "                      name='decoder')"
      ],
      "execution_count": null,
      "outputs": []
    },
    {
      "cell_type": "markdown",
      "metadata": {
        "id": "LQ70wLhLil_l"
      },
      "source": [
        "Print a summary and save the encoder network structure to \"./decoder.pdf\""
      ]
    },
    {
      "cell_type": "code",
      "metadata": {
        "id": "niFwW0XPil_l",
        "colab": {
          "base_uri": "https://localhost:8080/"
        },
        "outputId": "aa4670e7-a008-4b36-aac5-6ef213eba2ec"
      },
      "source": [
        "from IPython.display import SVG\n",
        "from keras.utils.vis_utils import model_to_dot, plot_model\n",
        "\n",
        "SVG(model_to_dot(decoder_model, show_shapes=False).create(prog='dot', format='svg'))\n",
        "\n",
        "plot_model(\n",
        "    model=decoder_model, show_shapes=False,\n",
        "    to_file='decoder.pdf'\n",
        ")\n",
        "\n",
        "decoder_model.summary()"
      ],
      "execution_count": null,
      "outputs": [
        {
          "output_type": "stream",
          "text": [
            "Model: \"decoder\"\n",
            "__________________________________________________________________________________________________\n",
            "Layer (type)                    Output Shape         Param #     Connected to                     \n",
            "==================================================================================================\n",
            "decoder_input_x (InputLayer)    [(None, None, 30)]   0                                            \n",
            "__________________________________________________________________________________________________\n",
            "decoder_input_h (InputLayer)    [(None, 512)]        0                                            \n",
            "__________________________________________________________________________________________________\n",
            "decoder_input_c (InputLayer)    [(None, 512)]        0                                            \n",
            "__________________________________________________________________________________________________\n",
            "decoder_lstm (LSTM)             [(None, None, 512),  1112064     decoder_input_x[0][0]            \n",
            "                                                                 decoder_input_h[0][0]            \n",
            "                                                                 decoder_input_c[0][0]            \n",
            "__________________________________________________________________________________________________\n",
            "decoder_dense (Dense)           (None, None, 30)     15390       decoder_lstm[0][0]               \n",
            "==================================================================================================\n",
            "Total params: 1,127,454\n",
            "Trainable params: 1,127,454\n",
            "Non-trainable params: 0\n",
            "__________________________________________________________________________________________________\n"
          ],
          "name": "stdout"
        }
      ]
    },
    {
      "cell_type": "markdown",
      "metadata": {
        "id": "_TtZSFbKil_l"
      },
      "source": [
        "### 3.3. Connect the encoder and decoder"
      ]
    },
    {
      "cell_type": "code",
      "metadata": {
        "id": "YE77I0uyil_l"
      },
      "source": [
        "# input layers\n",
        "encoder_input_x = Input(shape=(None, num_encoder_tokens), name='encoder_input_x')\n",
        "decoder_input_x = Input(shape=(None, num_decoder_tokens), name='decoder_input_x')\n",
        "\n",
        "# connect encoder to decoder\n",
        "encoder_final_states = encoder_model([encoder_input_x])\n",
        "decoder_lstm_output, _, _ = decoder_lstm(decoder_input_x, initial_state=encoder_final_states)\n",
        "decoder_pred = decoder_dense(decoder_lstm_output)\n",
        "\n",
        "model = Model(inputs=[encoder_input_x, decoder_input_x], \n",
        "              outputs=decoder_pred, \n",
        "              name='model_training')"
      ],
      "execution_count": null,
      "outputs": []
    },
    {
      "cell_type": "code",
      "metadata": {
        "id": "geTTOzadil_m",
        "colab": {
          "base_uri": "https://localhost:8080/"
        },
        "outputId": "f9018442-a5f3-4fb5-e009-80ed97acd34b"
      },
      "source": [
        "print(state_h)\n",
        "print(decoder_input_h)"
      ],
      "execution_count": null,
      "outputs": [
        {
          "output_type": "stream",
          "text": [
            "KerasTensor(type_spec=TensorSpec(shape=(None, 512), dtype=tf.float32, name=None), name='decoder_lstm/PartitionedCall:2', description=\"created by layer 'decoder_lstm'\")\n",
            "KerasTensor(type_spec=TensorSpec(shape=(None, 512), dtype=tf.float32, name='decoder_input_h'), name='decoder_input_h', description=\"created by layer 'decoder_input_h'\")\n"
          ],
          "name": "stdout"
        }
      ]
    },
    {
      "cell_type": "code",
      "metadata": {
        "id": "nt43b7oCil_m",
        "colab": {
          "base_uri": "https://localhost:8080/"
        },
        "outputId": "7e2c24a0-802e-44fd-fa98-9b1135edb2df"
      },
      "source": [
        "from IPython.display import SVG\n",
        "from keras.utils.vis_utils import model_to_dot, plot_model\n",
        "\n",
        "SVG(model_to_dot(model, show_shapes=False).create(prog='dot', format='svg'))\n",
        "\n",
        "plot_model(\n",
        "    model=model, show_shapes=False,\n",
        "    to_file='model_training.pdf'\n",
        ")\n",
        "\n",
        "model.summary()"
      ],
      "execution_count": null,
      "outputs": [
        {
          "output_type": "stream",
          "text": [
            "Model: \"model_training\"\n",
            "__________________________________________________________________________________________________\n",
            "Layer (type)                    Output Shape         Param #     Connected to                     \n",
            "==================================================================================================\n",
            "encoder_input_x (InputLayer)    [(None, None, 28)]   0                                            \n",
            "__________________________________________________________________________________________________\n",
            "decoder_input_x (InputLayer)    [(None, None, 30)]   0                                            \n",
            "__________________________________________________________________________________________________\n",
            "encoder (Functional)            [(None, 512), (None, 583680      encoder_input_x[0][0]            \n",
            "__________________________________________________________________________________________________\n",
            "decoder_lstm (LSTM)             [(None, None, 512),  1112064     decoder_input_x[0][0]            \n",
            "                                                                 encoder[0][0]                    \n",
            "                                                                 encoder[0][1]                    \n",
            "__________________________________________________________________________________________________\n",
            "decoder_dense (Dense)           (None, None, 30)     15390       decoder_lstm[1][0]               \n",
            "==================================================================================================\n",
            "Total params: 1,711,134\n",
            "Trainable params: 1,711,134\n",
            "Non-trainable params: 0\n",
            "__________________________________________________________________________________________________\n"
          ],
          "name": "stdout"
        }
      ]
    },
    {
      "cell_type": "markdown",
      "metadata": {
        "id": "4mw_atF4il_m"
      },
      "source": [
        "### 3.5. Fit the model on the bilingual dataset\n",
        "\n",
        "- encoder_input_data: one-hot encode of the input language\n",
        "\n",
        "- decoder_input_data: one-hot encode of the input language\n",
        "\n",
        "- decoder_target_data: labels (left shift of decoder_input_data)\n",
        "\n",
        "- tune the hyper-parameters\n",
        "\n",
        "- stop when the validation loss stop decreasing."
      ]
    },
    {
      "cell_type": "code",
      "metadata": {
        "id": "ua401qFgil_n",
        "colab": {
          "base_uri": "https://localhost:8080/"
        },
        "outputId": "de50f6fe-db18-4fd2-a250-bcf0c25edcd5"
      },
      "source": [
        "print('shape of encoder_input_data' + str(encoder_input_data.shape))\n",
        "print('shape of decoder_input_data' + str(decoder_input_data.shape))\n",
        "print('shape of decoder_target_data' + str(decoder_target_data.shape))"
      ],
      "execution_count": null,
      "outputs": [
        {
          "output_type": "stream",
          "text": [
            "shape of encoder_input_data(30000, 15, 28)\n",
            "shape of decoder_input_data(30000, 45, 30)\n",
            "shape of decoder_target_data(30000, 45, 30)\n"
          ],
          "name": "stdout"
        }
      ]
    },
    {
      "cell_type": "code",
      "metadata": {
        "id": "gSxzEeHcil_n",
        "colab": {
          "base_uri": "https://localhost:8080/"
        },
        "outputId": "4770bc51-d514-4adb-8d72-2e8c4e2b9086"
      },
      "source": [
        "model.compile(optimizer='rmsprop', loss='categorical_crossentropy')\n",
        "\n",
        "model.fit([encoder_input_data, decoder_input_data],  # training data\n",
        "          decoder_target_data,                       # labels (left shift of the target sequences)\n",
        "          batch_size=32, epochs=55, validation_split=0.2)\n",
        "\n",
        "model.save('seq2seq.h5')"
      ],
      "execution_count": null,
      "outputs": [
        {
          "output_type": "stream",
          "text": [
            "Epoch 1/55\n",
            "750/750 [==============================] - 39s 42ms/step - loss: 1.0902 - val_loss: 0.7969\n",
            "Epoch 2/55\n",
            "750/750 [==============================] - 30s 40ms/step - loss: 0.7503 - val_loss: 0.7033\n",
            "Epoch 3/55\n",
            "750/750 [==============================] - 30s 39ms/step - loss: 0.6849 - val_loss: 0.6482\n",
            "Epoch 4/55\n",
            "750/750 [==============================] - 30s 39ms/step - loss: 0.6429 - val_loss: 0.6141\n",
            "Epoch 5/55\n",
            "750/750 [==============================] - 30s 40ms/step - loss: 0.6129 - val_loss: 0.5915\n",
            "Epoch 6/55\n",
            "750/750 [==============================] - 30s 40ms/step - loss: 0.5857 - val_loss: 0.5660\n",
            "Epoch 7/55\n",
            "750/750 [==============================] - 30s 40ms/step - loss: 0.5632 - val_loss: 0.5556\n",
            "Epoch 8/55\n",
            "750/750 [==============================] - 30s 40ms/step - loss: 0.5494 - val_loss: 0.5488\n",
            "Epoch 9/55\n",
            "750/750 [==============================] - 30s 40ms/step - loss: 0.5301 - val_loss: 0.5309\n",
            "Epoch 10/55\n",
            "750/750 [==============================] - 30s 39ms/step - loss: 0.5154 - val_loss: 0.5281\n",
            "Epoch 11/55\n",
            "750/750 [==============================] - 30s 39ms/step - loss: 0.5004 - val_loss: 0.5217\n",
            "Epoch 12/55\n",
            "750/750 [==============================] - 30s 40ms/step - loss: 0.4927 - val_loss: 0.5197\n",
            "Epoch 13/55\n",
            "750/750 [==============================] - 30s 40ms/step - loss: 0.4824 - val_loss: 0.5097\n",
            "Epoch 14/55\n",
            "750/750 [==============================] - 30s 40ms/step - loss: 0.4702 - val_loss: 0.5088\n",
            "Epoch 15/55\n",
            "750/750 [==============================] - 30s 40ms/step - loss: 0.4619 - val_loss: 0.5041\n",
            "Epoch 16/55\n",
            "750/750 [==============================] - 30s 39ms/step - loss: 0.4511 - val_loss: 0.4992\n",
            "Epoch 17/55\n",
            "750/750 [==============================] - 30s 40ms/step - loss: 0.4465 - val_loss: 0.4951\n",
            "Epoch 18/55\n",
            "750/750 [==============================] - 30s 40ms/step - loss: 0.4355 - val_loss: 0.4996\n",
            "Epoch 19/55\n",
            "750/750 [==============================] - 30s 40ms/step - loss: 0.4314 - val_loss: 0.4902\n",
            "Epoch 20/55\n",
            "750/750 [==============================] - 30s 39ms/step - loss: 0.4221 - val_loss: 0.4871\n",
            "Epoch 21/55\n",
            "750/750 [==============================] - 30s 40ms/step - loss: 0.4196 - val_loss: 0.4924\n",
            "Epoch 22/55\n",
            "750/750 [==============================] - 30s 40ms/step - loss: 0.4138 - val_loss: 0.4927\n",
            "Epoch 23/55\n",
            "750/750 [==============================] - 30s 40ms/step - loss: 0.4086 - val_loss: 0.4906\n",
            "Epoch 24/55\n",
            "750/750 [==============================] - 30s 40ms/step - loss: 0.4047 - val_loss: 0.4827\n",
            "Epoch 25/55\n",
            "750/750 [==============================] - 30s 40ms/step - loss: 0.3984 - val_loss: 0.4848\n",
            "Epoch 26/55\n",
            "750/750 [==============================] - 30s 40ms/step - loss: 0.3924 - val_loss: 0.4904\n",
            "Epoch 27/55\n",
            "750/750 [==============================] - 30s 40ms/step - loss: 0.3863 - val_loss: 0.4910\n",
            "Epoch 28/55\n",
            "750/750 [==============================] - 30s 40ms/step - loss: 0.3853 - val_loss: 0.4866\n",
            "Epoch 29/55\n",
            "750/750 [==============================] - 30s 40ms/step - loss: 0.3794 - val_loss: 0.4872\n",
            "Epoch 30/55\n",
            "750/750 [==============================] - 30s 40ms/step - loss: 0.3793 - val_loss: 0.4882\n",
            "Epoch 31/55\n",
            "750/750 [==============================] - 30s 40ms/step - loss: 0.3736 - val_loss: 0.4841\n",
            "Epoch 32/55\n",
            "750/750 [==============================] - 30s 40ms/step - loss: 0.3678 - val_loss: 0.4925\n",
            "Epoch 33/55\n",
            "750/750 [==============================] - 30s 40ms/step - loss: 0.3661 - val_loss: 0.4903\n",
            "Epoch 34/55\n",
            "750/750 [==============================] - 30s 40ms/step - loss: 0.3622 - val_loss: 0.4858\n",
            "Epoch 35/55\n",
            "750/750 [==============================] - 30s 39ms/step - loss: 0.3591 - val_loss: 0.4889\n",
            "Epoch 36/55\n",
            "750/750 [==============================] - 30s 40ms/step - loss: 0.3525 - val_loss: 0.4949\n",
            "Epoch 37/55\n",
            "750/750 [==============================] - 30s 40ms/step - loss: 0.3530 - val_loss: 0.4903\n",
            "Epoch 38/55\n",
            "750/750 [==============================] - 30s 40ms/step - loss: 0.3515 - val_loss: 0.4869\n",
            "Epoch 39/55\n",
            "750/750 [==============================] - 30s 40ms/step - loss: 0.3502 - val_loss: 0.4919\n",
            "Epoch 40/55\n",
            "750/750 [==============================] - 30s 40ms/step - loss: 0.3447 - val_loss: 0.4911\n",
            "Epoch 41/55\n",
            "750/750 [==============================] - 30s 40ms/step - loss: 0.3443 - val_loss: 0.4915\n",
            "Epoch 42/55\n",
            "750/750 [==============================] - 30s 40ms/step - loss: 0.3387 - val_loss: 0.4930\n",
            "Epoch 43/55\n",
            "750/750 [==============================] - 30s 40ms/step - loss: 0.3401 - val_loss: 0.4892\n",
            "Epoch 44/55\n",
            "750/750 [==============================] - 30s 40ms/step - loss: 0.3380 - val_loss: 0.4845\n",
            "Epoch 45/55\n",
            "750/750 [==============================] - 30s 40ms/step - loss: 0.3301 - val_loss: 0.4959\n",
            "Epoch 46/55\n",
            "750/750 [==============================] - 30s 40ms/step - loss: 0.3306 - val_loss: 0.4895\n",
            "Epoch 47/55\n",
            "750/750 [==============================] - 30s 40ms/step - loss: 0.3271 - val_loss: 0.4932\n",
            "Epoch 48/55\n",
            "750/750 [==============================] - 30s 40ms/step - loss: 0.3241 - val_loss: 0.4914\n",
            "Epoch 49/55\n",
            "750/750 [==============================] - 30s 40ms/step - loss: 0.3231 - val_loss: 0.4947\n",
            "Epoch 50/55\n",
            "750/750 [==============================] - 30s 40ms/step - loss: 0.3231 - val_loss: 0.4932\n",
            "Epoch 51/55\n",
            "750/750 [==============================] - 30s 40ms/step - loss: 0.3185 - val_loss: 0.4969\n",
            "Epoch 52/55\n",
            "750/750 [==============================] - 30s 40ms/step - loss: 0.3181 - val_loss: 0.4972\n",
            "Epoch 53/55\n",
            "750/750 [==============================] - 30s 40ms/step - loss: 0.3155 - val_loss: 0.4949\n",
            "Epoch 54/55\n",
            "750/750 [==============================] - 30s 40ms/step - loss: 0.3128 - val_loss: 0.4985\n",
            "Epoch 55/55\n",
            "750/750 [==============================] - 30s 40ms/step - loss: 0.3109 - val_loss: 0.4996\n"
          ],
          "name": "stdout"
        }
      ]
    },
    {
      "cell_type": "markdown",
      "metadata": {
        "id": "c6mbRCaQil_n"
      },
      "source": [
        "## 4. Make predictions\n",
        "\n",
        "\n",
        "### 4.1. Translate English to XXX\n",
        "\n",
        "1. Encoder read a sentence (source language) and output its final states, $h_t$ and $c_t$.\n",
        "2. Take the [star] sign \"\\t\" and the final state $h_t$ and $c_t$ as input and run the decoder.\n",
        "3. Get the new states and predicted probability distribution.\n",
        "4. sample a char from the predicted probability distribution\n",
        "5. take the sampled char and the new states as input and repeat the process (stop if reach the [stop] sign \"\\n\")."
      ]
    },
    {
      "cell_type": "code",
      "metadata": {
        "id": "G8six6cjil_n"
      },
      "source": [
        "# Reverse-lookup token index to decode sequences back to something readable.\n",
        "reverse_input_char_index = dict((i, char) for char, i in input_token_index.items())\n",
        "reverse_target_char_index = dict((i, char) for char, i in target_token_index.items())"
      ],
      "execution_count": null,
      "outputs": []
    },
    {
      "cell_type": "code",
      "metadata": {
        "id": "LXigEcYOil_o"
      },
      "source": [
        "def decode_sequence(input_seq):\n",
        "    states_value = encoder_model.predict(input_seq)\n",
        "\n",
        "    target_seq = numpy.zeros((1, 1, num_decoder_tokens))\n",
        "    target_seq[0, 0, target_token_index['\\t']] = 1.\n",
        "\n",
        "    stop_condition = False\n",
        "    decoded_sentence = ''\n",
        "    while not stop_condition:\n",
        "        output_tokens, h, c = decoder_model.predict([target_seq] + states_value)\n",
        "\n",
        "        # this line of code is greedy selection\n",
        "        # try to use multinomial sampling instead (with temperature)\n",
        "        sampled_token_index = numpy.argmax(output_tokens[0, -1, :])\n",
        "        \n",
        "        sampled_char = reverse_target_char_index[sampled_token_index]\n",
        "        decoded_sentence += sampled_char\n",
        "\n",
        "        if (sampled_char == '\\n' or\n",
        "           len(decoded_sentence) > max_decoder_seq_length):\n",
        "            stop_condition = True\n",
        "\n",
        "        target_seq = numpy.zeros((1, 1, num_decoder_tokens))\n",
        "        target_seq[0, 0, sampled_token_index] = 1.\n",
        "\n",
        "        states_value = [h, c]\n",
        "\n",
        "    return decoded_sentence\n"
      ],
      "execution_count": null,
      "outputs": []
    },
    {
      "cell_type": "code",
      "metadata": {
        "id": "f9nKtTZDil_o",
        "colab": {
          "base_uri": "https://localhost:8080/"
        },
        "outputId": "51ccfb51-c31c-4e79-976d-425e9be945cb"
      },
      "source": [
        "for seq_index in range(2100, 2120):\n",
        "    # Take one sequence (part of the training set)\n",
        "    # for trying out decoding.\n",
        "    input_seq = encoder_input_data[seq_index: seq_index + 1]\n",
        "    decoded_sentence = decode_sequence(input_seq)\n",
        "    print('-')\n",
        "    print('English:       ', input_texts[seq_index])\n",
        "    print('German (true): ', target_texts[seq_index][1:-1])\n",
        "    print('German (pred): ', decoded_sentence[0:-1])\n"
      ],
      "execution_count": null,
      "outputs": [
        {
          "output_type": "stream",
          "text": [
            "-\n",
            "English:        stay calm\n",
            "German (true):  stia calma\n",
            "German (pred):  state calme\n",
            "-\n",
            "English:        stay calm\n",
            "German (true):  state calmi\n",
            "German (pred):  state calme\n",
            "-\n",
            "English:        stay calm\n",
            "German (true):  state calme\n",
            "German (pred):  state calme\n",
            "-\n",
            "English:        stay cool\n",
            "German (true):  mantieni la calma\n",
            "German (pred):  stia colcanta\n",
            "-\n",
            "English:        stay cool\n",
            "German (true):  mantenete la calma\n",
            "German (pred):  stia colcanta\n",
            "-\n",
            "English:        stay down\n",
            "German (true):  stai giu\n",
            "German (pred):  state giu\n",
            "-\n",
            "English:        stay down\n",
            "German (true):  state giu\n",
            "German (pred):  state giu\n",
            "-\n",
            "English:        stay down\n",
            "German (true):  stia giu\n",
            "German (pred):  state giu\n",
            "-\n",
            "English:        stay here\n",
            "German (true):  stai qui\n",
            "German (pred):  state qui\n",
            "-\n",
            "English:        stay here\n",
            "German (true):  state qui\n",
            "German (pred):  state qui\n",
            "-\n",
            "English:        stay here\n",
            "German (true):  stia qui\n",
            "German (pred):  state qui\n",
            "-\n",
            "English:        stay home\n",
            "German (true):  state a casa\n",
            "German (pred):  state a casa\n",
            "-\n",
            "English:        step back\n",
            "German (true):  fai un passo indietro\n",
            "German (pred):  fateii di lamonta\n",
            "-\n",
            "English:        step back\n",
            "German (true):  fate un passo indietro\n",
            "German (pred):  fateii di lamonta\n",
            "-\n",
            "English:        step back\n",
            "German (true):  faccia un passo indietro\n",
            "German (pred):  fateii di lamonta\n",
            "-\n",
            "English:        stop here\n",
            "German (true):  fermati qui\n",
            "German (pred):  fermate qui\n",
            "-\n",
            "English:        stop here\n",
            "German (true):  si fermi qui\n",
            "German (pred):  fermate qui\n",
            "-\n",
            "English:        stop here\n",
            "German (true):  fermatevi qui\n",
            "German (pred):  fermate qui\n",
            "-\n",
            "English:        stop here\n",
            "German (true):  fermati qua\n",
            "German (pred):  fermate qui\n",
            "-\n",
            "English:        stop here\n",
            "German (true):  si fermi qua\n",
            "German (pred):  fermate qui\n"
          ],
          "name": "stdout"
        }
      ]
    },
    {
      "cell_type": "markdown",
      "metadata": {
        "id": "wrQryAVAil_o"
      },
      "source": [
        "### 4.2. Translate an English sentence to the target language\n",
        "\n",
        "1. Tokenization\n",
        "2. One-hot encode\n",
        "3. Translate"
      ]
    },
    {
      "cell_type": "code",
      "metadata": {
        "id": "AErtwcqLV9ob",
        "colab": {
          "base_uri": "https://localhost:8080/"
        },
        "outputId": "c8d1bb19-349b-40e3-edfc-ffede92479e8"
      },
      "source": [
        "input_sentence = 'I love you','So do I'\n",
        "\n",
        "input_sentence = numpy.array(input_sentence)\n",
        "\n",
        "seqs = tokenizer1.texts_to_sequences(input_sentence)\n",
        "input_sequence = pad_sequences(seqs, max_encoder_seq_length, padding='post')\n",
        "\n",
        "input_x = onehot_encode(input_sequence, max_encoder_seq_length, num_encoder_tokens)\n",
        "\n",
        "input_x = numpy.array(input_x[0])\n",
        "\n",
        "input_x = numpy.array([input_x])\n",
        "\n",
        "translated_sentence = decode_sequence(input_x)\n",
        "\n",
        "print('source sentence is: ' + input_sentence[0])\n",
        "print('translated sentence is: ' + translated_sentence)"
      ],
      "execution_count": null,
      "outputs": [
        {
          "output_type": "stream",
          "text": [
            "source sentence is: I love you\n",
            "translated sentence is: io mi sentivo stanca\n",
            "\n"
          ],
          "name": "stdout"
        }
      ]
    },
    {
      "cell_type": "markdown",
      "metadata": {
        "id": "oOuRg8Zbil_p"
      },
      "source": [
        "## 5. Evaluate the translation using BLEU score\n",
        "\n",
        "Reference: \n",
        "- https://machinelearningmastery.com/calculate-bleu-score-for-text-python/\n",
        "- https://en.wikipedia.org/wiki/BLEU\n",
        "\n",
        "\n",
        "**Hint:** \n",
        "\n",
        "- Randomly partition the dataset to training, validation, and test. \n",
        "\n",
        "- Evaluate the BLEU score using the test set. Report the average.\n",
        "\n",
        "- A reasonable BLEU score should be 0.1 ~ 0.5."
      ]
    }
  ]
}