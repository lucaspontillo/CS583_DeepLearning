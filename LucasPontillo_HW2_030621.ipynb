{
 "cells": [
  {
   "cell_type": "markdown",
   "id": "twelve-administration",
   "metadata": {},
   "source": [
    "# HM2: Numerical Optimization for Logistic Regression.\n",
    "\n",
    "### Name: Lucas Pontillo\n"
   ]
  },
  {
   "cell_type": "markdown",
   "id": "human-spirit",
   "metadata": {},
   "source": [
    "## 0. You will do the following:\n",
    "\n",
    "1. Read the lecture note: [click here](https://github.com/wangshusen/DeepLearning/blob/master/LectureNotes/Logistic/paper/logistic.pdf)\n",
    "\n",
    "2. Read, complete, and run my code.\n",
    "\n",
    "3. **Implement mini-batch SGD** and evaluate the performance.\n",
    "\n",
    "4. Convert the .IPYNB file to .HTML file.\n",
    "\n",
    "    * The HTML file must contain **the code** and **the output after execution**.\n",
    "    \n",
    "    * Missing **the output after execution** will not be graded.\n",
    "    \n",
    "5. Upload this .HTML file to your Google Drive, Dropbox, or your Github repo.  (If you submit the file to Google Drive or Dropbox, you must make the file \"open-access\". The delay caused by \"deny of access\" may result in late penalty.)\n",
    "\n",
    "6. Submit the link to this .HTML file to Canvas.\n",
    "\n",
    "    * Example: https://github.com/wangshusen/CS583-2020S/blob/master/homework/HM2/HM2.html\n",
    "\n",
    "\n",
    "## Grading criteria:\n",
    "\n",
    "1. When computing the ```gradient``` and ```objective function value``` using a batch of samples, use **matrix-vector multiplication** rather than a FOR LOOP of **vector-vector multiplications**.\n",
    "\n",
    "2. Plot ```objective function value``` against ```epochs```. In the plot, compare GD, SGD, and MB-SGD (with $b=8$ and $b=64$). The plot must look reasonable."
   ]
  },
  {
   "cell_type": "code",
   "execution_count": null,
   "id": "aerial-orange",
   "metadata": {},
   "outputs": [],
   "source": []
  },
  {
   "cell_type": "markdown",
   "id": "convertible-international",
   "metadata": {},
   "source": [
    "# 1. Data processing\n",
    "\n",
    "- Download the Diabete dataset from https://www.csie.ntu.edu.tw/~cjlin/libsvmtools/datasets/binary/diabetes\n",
    "- Load the data using sklearn.\n",
    "- Preprocess the data."
   ]
  },
  {
   "cell_type": "markdown",
   "id": "logical-musical",
   "metadata": {},
   "source": [
    "## 1.1. Load the data"
   ]
  },
  {
   "cell_type": "code",
   "execution_count": 1,
   "id": "facial-reminder",
   "metadata": {},
   "outputs": [
    {
     "name": "stdout",
     "output_type": "stream",
     "text": [
      "Shape of x: (768, 8)\n",
      "Shape of y: (768,)\n"
     ]
    }
   ],
   "source": [
    "from sklearn import datasets\n",
    "import numpy\n",
    "\n",
    "x_sparse, y = datasets.load_svmlight_file('diabetes')\n",
    "x = x_sparse.todense()\n",
    "\n",
    "print('Shape of x: ' + str(x.shape))\n",
    "print('Shape of y: ' + str(y.shape))"
   ]
  },
  {
   "cell_type": "markdown",
   "id": "behind-vacation",
   "metadata": {},
   "source": [
    "## 1.2. Partition to training and test sets"
   ]
  },
  {
   "cell_type": "code",
   "execution_count": 2,
   "id": "occasional-gazette",
   "metadata": {},
   "outputs": [
    {
     "name": "stdout",
     "output_type": "stream",
     "text": [
      "Shape of x_train: (640, 8)\n",
      "Shape of x_test: (128, 8)\n",
      "Shape of y_train: (640, 1)\n",
      "Shape of y_test: (128, 1)\n"
     ]
    }
   ],
   "source": [
    "# partition the data to training and test sets\n",
    "n = x.shape[0]\n",
    "n_train = 640\n",
    "n_test = n - n_train\n",
    "\n",
    "rand_indices = numpy.random.permutation(n)\n",
    "train_indices = rand_indices[0:n_train]\n",
    "test_indices = rand_indices[n_train:n]\n",
    "\n",
    "x_train = x[train_indices, :]\n",
    "x_test = x[test_indices, :]\n",
    "y_train = y[train_indices].reshape(n_train, 1)\n",
    "y_test = y[test_indices].reshape(n_test, 1)\n",
    "\n",
    "print('Shape of x_train: ' + str(x_train.shape))\n",
    "print('Shape of x_test: ' + str(x_test.shape))\n",
    "print('Shape of y_train: ' + str(y_train.shape))\n",
    "print('Shape of y_test: ' + str(y_test.shape))"
   ]
  },
  {
   "cell_type": "markdown",
   "id": "finished-brick",
   "metadata": {},
   "source": [
    "## 1.3. Feature scaling"
   ]
  },
  {
   "cell_type": "markdown",
   "id": "another-printing",
   "metadata": {},
   "source": [
    "Use the standardization to trainsform both training and test features"
   ]
  },
  {
   "cell_type": "code",
   "execution_count": 3,
   "id": "careful-marine",
   "metadata": {},
   "outputs": [
    {
     "name": "stdout",
     "output_type": "stream",
     "text": [
      "test mean = \n",
      "[[-0.08086145  0.03504137 -0.06492078  0.00842134 -0.02569145 -0.13052094\n",
      "  -0.07598435 -0.09092732]]\n",
      "test std = \n",
      "[[0.97178579 0.99585085 1.01830897 0.99444916 1.00500629 1.03883206\n",
      "  0.97166534 0.95132331]]\n"
     ]
    }
   ],
   "source": [
    "# Standardization\n",
    "import numpy\n",
    "\n",
    "# calculate mu and sig using the training set\n",
    "d = x_train.shape[1]\n",
    "mu = numpy.mean(x_train, axis=0).reshape(1, d)\n",
    "sig = numpy.std(x_train, axis=0).reshape(1, d)\n",
    "\n",
    "# transform the training features\n",
    "x_train = (x_train - mu) / (sig + 1E-6)\n",
    "\n",
    "# transform the test features\n",
    "x_test = (x_test - mu) / (sig + 1E-6)\n",
    "\n",
    "print('test mean = ')\n",
    "print(numpy.mean(x_test, axis=0))\n",
    "\n",
    "print('test std = ')\n",
    "print(numpy.std(x_test, axis=0))"
   ]
  },
  {
   "cell_type": "markdown",
   "id": "sonic-address",
   "metadata": {},
   "source": [
    "## 1.4. Add a dimension of all ones"
   ]
  },
  {
   "cell_type": "code",
   "execution_count": 4,
   "id": "changing-artist",
   "metadata": {},
   "outputs": [
    {
     "name": "stdout",
     "output_type": "stream",
     "text": [
      "Shape of x_train: (640, 9)\n",
      "Shape of x_test: (128, 9)\n"
     ]
    }
   ],
   "source": [
    "n_train, d = x_train.shape\n",
    "x_train = numpy.concatenate((x_train, numpy.ones((n_train, 1))), axis=1)\n",
    "\n",
    "n_test, d = x_test.shape\n",
    "x_test = numpy.concatenate((x_test, numpy.ones((n_test, 1))), axis=1)\n",
    "\n",
    "print('Shape of x_train: ' + str(x_train.shape))\n",
    "print('Shape of x_test: ' + str(x_test.shape))"
   ]
  },
  {
   "cell_type": "markdown",
   "id": "destroyed-conviction",
   "metadata": {},
   "source": [
    "# 2. Logistic regression model\n",
    "\n",
    "The objective function is $Q (w; X, y) = \\frac{1}{n} \\sum_{i=1}^n \\log \\Big( 1 + \\exp \\big( - y_i x_i^T w \\big) \\Big) + \\frac{\\lambda}{2} \\| w \\|_2^2 $."
   ]
  },
  {
   "cell_type": "code",
   "execution_count": 5,
   "id": "deluxe-globe",
   "metadata": {},
   "outputs": [],
   "source": [
    "# Calculate the objective function value\n",
    "# Inputs:\n",
    "#     w: d-by-1 matrix\n",
    "#     x: n-by-d matrix\n",
    "#     y: n-by-1 matrix\n",
    "#     lam: scalar, the regularization parameter\n",
    "# Return:\n",
    "#     objective function value (scalar)\n",
    "def objective(w, x, y, lam):\n",
    "    n, d = x.shape\n",
    "    yx = numpy.multiply(y, x) # n-by-d matrix\n",
    "    yxw = numpy.dot(yx, w) # n-by-1 matrix\n",
    "    vec1 = numpy.exp(-yxw) # n-by-1 matrix\n",
    "    vec2 = numpy.log(1 + vec1) # n-by-1 matrix\n",
    "    loss = numpy.mean(vec2) # scalar\n",
    "    reg = lam / 2 * numpy.sum(w * w) # scalar\n",
    "    return loss + reg\n",
    "    "
   ]
  },
  {
   "cell_type": "code",
   "execution_count": 6,
   "id": "apart-bernard",
   "metadata": {},
   "outputs": [
    {
     "name": "stdout",
     "output_type": "stream",
     "text": [
      "Initial objective function value = 0.6931471805599453\n"
     ]
    }
   ],
   "source": [
    "# initialize w\n",
    "d = x_train.shape[1]\n",
    "w = numpy.zeros((d, 1))\n",
    "\n",
    "# evaluate the objective function value at w\n",
    "lam = 1E-6\n",
    "objval0 = objective(w, x_train, y_train, lam)\n",
    "print('Initial objective function value = ' + str(objval0))"
   ]
  },
  {
   "cell_type": "markdown",
   "id": "dedicated-fashion",
   "metadata": {},
   "source": [
    "# 3. Numerical optimization"
   ]
  },
  {
   "cell_type": "markdown",
   "id": "wooden-bryan",
   "metadata": {},
   "source": [
    "## 3.1. Gradient descent\n"
   ]
  },
  {
   "cell_type": "markdown",
   "id": "animated-kitty",
   "metadata": {},
   "source": [
    "The gradient at $w$ is $g = - \\frac{1}{n} \\sum_{i=1}^n \\frac{y_i x_i }{1 + \\exp ( y_i x_i^T w)} + \\lambda w$"
   ]
  },
  {
   "cell_type": "code",
   "execution_count": 7,
   "id": "noticed-margin",
   "metadata": {},
   "outputs": [],
   "source": [
    "# Calculate the gradient\n",
    "# Inputs:\n",
    "#     w: d-by-1 matrix\n",
    "#     x: n-by-d matrix\n",
    "#     y: n-by-1 matrix\n",
    "#     lam: scalar, the regularization parameter\n",
    "# Return:\n",
    "#     g: g: d-by-1 matrix, full gradient\n",
    "def gradient(w, x, y, lam):\n",
    "    n, d = x.shape\n",
    "    yx = numpy.multiply(y, x) # n-by-d matrix\n",
    "    yxw = numpy.dot(yx, w) # n-by-1 matrix\n",
    "    vec1 = numpy.exp(yxw) # n-by-1 matrix\n",
    "    vec2 = numpy.divide(yx, 1+vec1) # n-by-d matrix\n",
    "    vec3 = -numpy.mean(vec2, axis=0).reshape(d, 1) # d-by-1 matrix\n",
    "    g = vec3 + lam * w\n",
    "    return g"
   ]
  },
  {
   "cell_type": "code",
   "execution_count": 8,
   "id": "tested-silly",
   "metadata": {},
   "outputs": [],
   "source": [
    "# Gradient descent for solving logistic regression\n",
    "# Inputs:\n",
    "#     x: n-by-d matrix\n",
    "#     y: n-by-1 matrix\n",
    "#     lam: scalar, the regularization parameter\n",
    "#     stepsize: scalar\n",
    "#     max_iter: integer, the maximal iterations\n",
    "#     w: d-by-1 matrix, initialization of w\n",
    "# Return:\n",
    "#     w: d-by-1 matrix, the solution\n",
    "#     objvals: a record of each iteration's objective value\n",
    "def grad_descent(x, y, lam, stepsize, max_iter=100, w=None):\n",
    "    n, d = x.shape\n",
    "    objvals = numpy.zeros(max_iter) # store the objective values\n",
    "    if w is None:\n",
    "        w = numpy.zeros((d, 1)) # zero initialization\n",
    "    \n",
    "    for t in range(max_iter):\n",
    "        objval = objective(w, x, y, lam)\n",
    "        objvals[t] = objval\n",
    "        print('Objective value at t=' + str(t) + ' is ' + str(objval))\n",
    "        g = gradient(w, x, y, lam)\n",
    "        w -= stepsize * g\n",
    "    \n",
    "    return w, objvals"
   ]
  },
  {
   "cell_type": "markdown",
   "id": "stretch-cambodia",
   "metadata": {},
   "source": [
    "Run gradient descent."
   ]
  },
  {
   "cell_type": "code",
   "execution_count": 9,
   "id": "embedded-madison",
   "metadata": {},
   "outputs": [
    {
     "name": "stdout",
     "output_type": "stream",
     "text": [
      "Objective value at t=0 is 0.6931471805599453\n",
      "Objective value at t=1 is 0.5925004241911883\n",
      "Objective value at t=2 is 0.5513301248402288\n",
      "Objective value at t=3 is 0.5289956794825414\n",
      "Objective value at t=4 is 0.5149208606236155\n",
      "Objective value at t=5 is 0.5052953722965334\n",
      "Objective value at t=6 is 0.4983764704698917\n",
      "Objective value at t=7 is 0.49323416221903216\n",
      "Objective value at t=8 is 0.48931869330569555\n",
      "Objective value at t=9 is 0.48628152311712664\n",
      "Objective value at t=10 is 0.4838904190602724\n",
      "Objective value at t=11 is 0.48198482915341356\n",
      "Objective value at t=12 is 0.480450531589525\n",
      "Objective value at t=13 is 0.47920436280449513\n",
      "Objective value at t=14 is 0.478184592912017\n",
      "Objective value at t=15 is 0.4773446414757843\n",
      "Objective value at t=16 is 0.4766488548962941\n",
      "Objective value at t=17 is 0.4760696002803583\n",
      "Objective value at t=18 is 0.4755852238169605\n",
      "Objective value at t=19 is 0.4751785904136789\n",
      "Objective value at t=20 is 0.4748360222154892\n",
      "Objective value at t=21 is 0.4745465158380003\n",
      "Objective value at t=22 is 0.4743011575321531\n",
      "Objective value at t=23 is 0.47409268099662766\n",
      "Objective value at t=24 is 0.4739151293901003\n",
      "Objective value at t=25 is 0.4737635944075742\n",
      "Objective value at t=26 is 0.4736340130071466\n",
      "Objective value at t=27 is 0.4735230077223506\n",
      "Objective value at t=28 is 0.47342776025037475\n",
      "Objective value at t=29 is 0.4733459106761411\n",
      "Objective value at t=30 is 0.47327547661265246\n",
      "Objective value at t=31 is 0.47321478793480176\n",
      "Objective value at t=32 is 0.4731624338103531\n",
      "Objective value at t=33 is 0.4731172194935958\n",
      "Objective value at t=34 is 0.47307813091773065\n",
      "Objective value at t=35 is 0.47304430555308286\n",
      "Objective value at t=36 is 0.4730150083265301\n",
      "Objective value at t=37 is 0.4729896116494944\n",
      "Objective value at t=38 is 0.4729675787966295\n",
      "Objective value at t=39 is 0.47294845002892877\n",
      "Objective value at t=40 is 0.4729318309737315\n",
      "Objective value at t=41 is 0.47291738286767626\n",
      "Objective value at t=42 is 0.47290481434281423\n",
      "Objective value at t=43 is 0.4728938744951758\n",
      "Objective value at t=44 is 0.47288434702240395\n",
      "Objective value at t=45 is 0.47287604525512966\n",
      "Objective value at t=46 is 0.47286880793753283\n",
      "Objective value at t=47 is 0.4728624956374989\n",
      "Objective value at t=48 is 0.47285698768712836\n",
      "Objective value at t=49 is 0.4728521795709956\n",
      "Objective value at t=50 is 0.4728479806932118\n",
      "Objective value at t=51 is 0.47284431246559616\n",
      "Objective value at t=52 is 0.4728411066685543\n",
      "Objective value at t=53 is 0.4728383040439642\n",
      "Objective value at t=54 is 0.47283585308576864\n",
      "Objective value at t=55 is 0.4728337089993124\n",
      "Objective value at t=56 is 0.47283183280490954\n",
      "Objective value at t=57 is 0.47283019056486886\n",
      "Objective value at t=58 is 0.47282875271632735\n",
      "Objective value at t=59 is 0.47282749349488573\n",
      "Objective value at t=60 is 0.4728263904362536\n",
      "Objective value at t=61 is 0.47282542394499466\n",
      "Objective value at t=62 is 0.47282457692104535\n",
      "Objective value at t=63 is 0.4728238344360297\n",
      "Objective value at t=64 is 0.47282318345253094\n",
      "Objective value at t=65 is 0.4728226125804616\n",
      "Objective value at t=66 is 0.47282211186549045\n",
      "Objective value at t=67 is 0.47282167260519953\n",
      "Objective value at t=68 is 0.472821287189246\n",
      "Objective value at t=69 is 0.4728209489603156\n",
      "Objective value at t=70 is 0.47282065209310237\n",
      "Objective value at t=71 is 0.47282039148892446\n",
      "Objective value at t=72 is 0.4728201626839114\n",
      "Objective value at t=73 is 0.47281996176898033\n",
      "Objective value at t=74 is 0.4728197853200568\n",
      "Objective value at t=75 is 0.47281963033720176\n",
      "Objective value at t=76 is 0.4728194941914904\n",
      "Objective value at t=77 is 0.4728193745786344\n",
      "Objective value at t=78 is 0.47281926947848046\n",
      "Objective value at t=79 is 0.47281917711962484\n",
      "Objective value at t=80 is 0.47281909594849025\n",
      "Objective value at t=81 is 0.47281902460229275\n",
      "Objective value at t=82 is 0.4728189618854009\n",
      "Objective value at t=83 is 0.47281890674865823\n",
      "Objective value at t=84 is 0.4728188582712891\n",
      "Objective value at t=85 is 0.4728188156450641\n",
      "Objective value at t=86 is 0.47281877816043727\n",
      "Objective value at t=87 is 0.4728187451944068\n",
      "Objective value at t=88 is 0.4728187161998837\n",
      "Objective value at t=89 is 0.4728186906963773\n",
      "Objective value at t=90 is 0.4728186682618338\n",
      "Objective value at t=91 is 0.4728186485254828\n",
      "Objective value at t=92 is 0.4728186311615677\n",
      "Objective value at t=93 is 0.4728186158838468\n",
      "Objective value at t=94 is 0.47281860244077295\n",
      "Objective value at t=95 is 0.4728185906112637\n",
      "Objective value at t=96 is 0.4728185802009919\n",
      "Objective value at t=97 is 0.47281857103913144\n",
      "Objective value at t=98 is 0.47281856297549957\n",
      "Objective value at t=99 is 0.4728185558780502\n"
     ]
    }
   ],
   "source": [
    "lam = 1E-6\n",
    "stepsize = 1.0\n",
    "w, objvals_gd = grad_descent(x_train, y_train, lam, stepsize)"
   ]
  },
  {
   "cell_type": "markdown",
   "id": "purple-dependence",
   "metadata": {},
   "source": [
    "## 3.2. Stochastic gradient descent (SGD)\n",
    "\n",
    "Define $Q_i (w) = \\log \\Big( 1 + \\exp \\big( - y_i x_i^T w \\big) \\Big) + \\frac{\\lambda}{2} \\| w \\|_2^2 $.\n",
    "\n",
    "The stochastic gradient at $w$ is $g_i = \\frac{\\partial Q_i }{ \\partial w} = -\\frac{y_i x_i }{1 + \\exp ( y_i x_i^T w)} + \\lambda w$."
   ]
  },
  {
   "cell_type": "code",
   "execution_count": 10,
   "id": "relative-oxford",
   "metadata": {},
   "outputs": [],
   "source": [
    "# Calculate the objective Q_i and the gradient of Q_i\n",
    "# Inputs:\n",
    "#     w: d-by-1 matrix\n",
    "#     xi: 1-by-d matrix\n",
    "#     yi: scalar\n",
    "#     lam: scalar, the regularization parameter\n",
    "# Return:\n",
    "#     obj: scalar, the objective Q_i\n",
    "#     g: d-by-1 matrix, gradient of Q_i\n",
    "def stochastic_objective_gradient(w, xi, yi, lam):\n",
    "    d = xi.shape[0]\n",
    "    yx = yi * xi # 1-by-d matrix\n",
    "    yxw = float(numpy.dot(yx, w)) # scalar\n",
    "    \n",
    "    # calculate objective function Q_i\n",
    "    loss = numpy.log(1 + numpy.exp(-yxw)) # scalar\n",
    "    reg = lam / 2 * numpy.sum(w * w) # scalar\n",
    "    obj = loss + reg\n",
    "    \n",
    "    # calculate stochastic gradient\n",
    "    g_loss = -yx.T / (1 + numpy.exp(yxw)) # d-by-1 matrix\n",
    "    g = g_loss + lam * w # d-by-1 matrix\n",
    "    \n",
    "    return obj, g"
   ]
  },
  {
   "cell_type": "code",
   "execution_count": 11,
   "id": "useful-adapter",
   "metadata": {},
   "outputs": [],
   "source": [
    "# SGD for solving logistic regression\n",
    "# Inputs:\n",
    "#     x: n-by-d matrix\n",
    "#     y: n-by-1 matrix\n",
    "#     lam: scalar, the regularization parameter\n",
    "#     stepsize: scalar\n",
    "#     max_epoch: integer, the maximal epochs\n",
    "#     w: d-by-1 matrix, initialization of w\n",
    "# Return:\n",
    "#     w: the solution\n",
    "#     objvals: record of each iteration's objective value\n",
    "def sgd(x, y, lam, stepsize, max_epoch=100, w=None):\n",
    "    n, d = x.shape\n",
    "    objvals = numpy.zeros(max_epoch) # store the objective values\n",
    "    if w is None:\n",
    "        w = numpy.zeros((d, 1)) # zero initialization\n",
    "    \n",
    "    for t in range(max_epoch):\n",
    "        # randomly shuffle the samples\n",
    "        rand_indices = numpy.random.permutation(n)\n",
    "        x_rand = x[rand_indices, :]\n",
    "        y_rand = y[rand_indices, :]\n",
    "        \n",
    "        objval = 0 # accumulate the objective values\n",
    "        for i in range(n):\n",
    "            xi = x_rand[i, :] # 1-by-d matrix\n",
    "            yi = float(y_rand[i, :]) # scalar\n",
    "            obj, g = stochastic_objective_gradient(w, xi, yi, lam)\n",
    "            objval += obj\n",
    "            w -= stepsize * g\n",
    "        \n",
    "        stepsize *= 0.9 # decrease step size\n",
    "        objval /= n\n",
    "        objvals[t] = objval\n",
    "        print('Objective value at epoch t=' + str(t) + ' is ' + str(objval))\n",
    "    \n",
    "    return w, objvals"
   ]
  },
  {
   "cell_type": "markdown",
   "id": "laden-radical",
   "metadata": {},
   "source": [
    "Run SGD."
   ]
  },
  {
   "cell_type": "code",
   "execution_count": 12,
   "id": "medical-measure",
   "metadata": {},
   "outputs": [
    {
     "name": "stdout",
     "output_type": "stream",
     "text": [
      "Objective value at epoch t=0 is 0.5283062842214366\n",
      "Objective value at epoch t=1 is 0.5262636504980056\n",
      "Objective value at epoch t=2 is 0.5246396463520313\n",
      "Objective value at epoch t=3 is 0.5075001507964135\n",
      "Objective value at epoch t=4 is 0.5067334639886857\n",
      "Objective value at epoch t=5 is 0.504947285860348\n",
      "Objective value at epoch t=6 is 0.5021610985458861\n",
      "Objective value at epoch t=7 is 0.4949152674942951\n",
      "Objective value at epoch t=8 is 0.4878074077734337\n",
      "Objective value at epoch t=9 is 0.5003507391581212\n",
      "Objective value at epoch t=10 is 0.4893437444980956\n",
      "Objective value at epoch t=11 is 0.4927476171186481\n",
      "Objective value at epoch t=12 is 0.48834761246886166\n",
      "Objective value at epoch t=13 is 0.48665290458496646\n",
      "Objective value at epoch t=14 is 0.48469803226631347\n",
      "Objective value at epoch t=15 is 0.48445720720532376\n",
      "Objective value at epoch t=16 is 0.4853335619290583\n",
      "Objective value at epoch t=17 is 0.4825692369943978\n",
      "Objective value at epoch t=18 is 0.4815115895370449\n",
      "Objective value at epoch t=19 is 0.48159457573807557\n",
      "Objective value at epoch t=20 is 0.480215226542438\n",
      "Objective value at epoch t=21 is 0.4804567551927425\n",
      "Objective value at epoch t=22 is 0.47935469693300997\n",
      "Objective value at epoch t=23 is 0.47883046298850596\n",
      "Objective value at epoch t=24 is 0.4780526048211808\n",
      "Objective value at epoch t=25 is 0.47764288041583863\n",
      "Objective value at epoch t=26 is 0.47696067666878517\n",
      "Objective value at epoch t=27 is 0.47692391465042894\n",
      "Objective value at epoch t=28 is 0.47633703801233207\n",
      "Objective value at epoch t=29 is 0.47612085982367186\n",
      "Objective value at epoch t=30 is 0.47556597076562424\n",
      "Objective value at epoch t=31 is 0.4754489054015555\n",
      "Objective value at epoch t=32 is 0.47525584705683643\n",
      "Objective value at epoch t=33 is 0.47504267397698036\n",
      "Objective value at epoch t=34 is 0.4747423810819463\n",
      "Objective value at epoch t=35 is 0.47462927411269495\n",
      "Objective value at epoch t=36 is 0.474454945202685\n",
      "Objective value at epoch t=37 is 0.4742936616302157\n",
      "Objective value at epoch t=38 is 0.47413331927684343\n",
      "Objective value at epoch t=39 is 0.4739941362539092\n",
      "Objective value at epoch t=40 is 0.47389229650836134\n",
      "Objective value at epoch t=41 is 0.4737585263773495\n",
      "Objective value at epoch t=42 is 0.4736894989149759\n",
      "Objective value at epoch t=43 is 0.47358842256607386\n",
      "Objective value at epoch t=44 is 0.4735312141046342\n",
      "Objective value at epoch t=45 is 0.47346135569699854\n",
      "Objective value at epoch t=46 is 0.4733903074422413\n",
      "Objective value at epoch t=47 is 0.47333527421815225\n",
      "Objective value at epoch t=48 is 0.4732838579771682\n",
      "Objective value at epoch t=49 is 0.4732400799941865\n",
      "Objective value at epoch t=50 is 0.47319683983331035\n",
      "Objective value at epoch t=51 is 0.47315677662760924\n",
      "Objective value at epoch t=52 is 0.47312561664097447\n",
      "Objective value at epoch t=53 is 0.47309539599127415\n",
      "Objective value at epoch t=54 is 0.473067613886793\n",
      "Objective value at epoch t=55 is 0.4730431793738398\n",
      "Objective value at epoch t=56 is 0.4730191624454666\n",
      "Objective value at epoch t=57 is 0.47300009192589065\n",
      "Objective value at epoch t=58 is 0.47298184967286383\n",
      "Objective value at epoch t=59 is 0.4729659543789718\n",
      "Objective value at epoch t=60 is 0.47295127992884306\n",
      "Objective value at epoch t=61 is 0.47293811614619186\n",
      "Objective value at epoch t=62 is 0.4729261896736558\n",
      "Objective value at epoch t=63 is 0.47291542589523683\n",
      "Objective value at epoch t=64 is 0.4729058178833075\n",
      "Objective value at epoch t=65 is 0.4728971001446204\n",
      "Objective value at epoch t=66 is 0.47288930193723094\n",
      "Objective value at epoch t=67 is 0.47288222484520226\n",
      "Objective value at epoch t=68 is 0.4728758548761248\n",
      "Objective value at epoch t=69 is 0.4728699955905885\n",
      "Objective value at epoch t=70 is 0.47286500263637016\n",
      "Objective value at epoch t=71 is 0.4728604067720442\n",
      "Objective value at epoch t=72 is 0.4728562646566412\n",
      "Objective value at epoch t=73 is 0.47285244965620077\n",
      "Objective value at epoch t=74 is 0.47284911147418063\n",
      "Objective value at epoch t=75 is 0.4728461011313912\n",
      "Objective value at epoch t=76 is 0.47284336795309223\n",
      "Objective value at epoch t=77 is 0.47284090351235253\n",
      "Objective value at epoch t=78 is 0.47283868714212085\n",
      "Objective value at epoch t=79 is 0.4728366755896217\n",
      "Objective value at epoch t=80 is 0.4728348962332579\n",
      "Objective value at epoch t=81 is 0.47283328121684204\n",
      "Objective value at epoch t=82 is 0.47283182500684395\n",
      "Objective value at epoch t=83 is 0.4728305197359094\n",
      "Objective value at epoch t=84 is 0.47282934452716124\n",
      "Objective value at epoch t=85 is 0.4728282841161488\n",
      "Objective value at epoch t=86 is 0.4728273296079316\n",
      "Objective value at epoch t=87 is 0.4728264717807879\n",
      "Objective value at epoch t=88 is 0.47282569878896996\n",
      "Objective value at epoch t=89 is 0.4728250036864455\n",
      "Objective value at epoch t=90 is 0.4728243780169564\n",
      "Objective value at epoch t=91 is 0.4728238139248247\n",
      "Objective value at epoch t=92 is 0.47282330756027796\n",
      "Objective value at epoch t=93 is 0.4728228518526866\n",
      "Objective value at epoch t=94 is 0.4728224405260993\n",
      "Objective value at epoch t=95 is 0.4728220712406891\n",
      "Objective value at epoch t=96 is 0.4728217387362311\n",
      "Objective value at epoch t=97 is 0.47282143947673755\n",
      "Objective value at epoch t=98 is 0.4728211699400345\n",
      "Objective value at epoch t=99 is 0.4728209275043261\n"
     ]
    }
   ],
   "source": [
    "lam = 1E-6\n",
    "stepsize = 0.1\n",
    "w, objvals_sgd = sgd(x_train, y_train, lam, stepsize)"
   ]
  },
  {
   "cell_type": "markdown",
   "id": "honey-algorithm",
   "metadata": {},
   "source": [
    "# 4. Compare GD with SGD\n",
    "\n",
    "Plot objective function values against epochs."
   ]
  },
  {
   "cell_type": "code",
   "execution_count": 13,
   "id": "traditional-mexico",
   "metadata": {},
   "outputs": [
    {
     "name": "stderr",
     "output_type": "stream",
     "text": [
      "<ipython-input-13-9b8d8f4cdfb5>:9: MatplotlibDeprecationWarning: Case-insensitive properties were deprecated in 3.3 and support will be removed two minor releases later\n",
      "  line0, = plt.plot(epochs_gd, objvals_gd, '--b', LineWidth=4)\n",
      "<ipython-input-13-9b8d8f4cdfb5>:10: MatplotlibDeprecationWarning: Case-insensitive properties were deprecated in 3.3 and support will be removed two minor releases later\n",
      "  line1, = plt.plot(epochs_sgd, objvals_sgd, '-r', LineWidth=2)\n",
      "<ipython-input-13-9b8d8f4cdfb5>:11: MatplotlibDeprecationWarning: Case-insensitive properties were deprecated in 3.3 and support will be removed two minor releases later\n",
      "  plt.xlabel('Epochs', FontSize=20)\n",
      "<ipython-input-13-9b8d8f4cdfb5>:12: MatplotlibDeprecationWarning: Case-insensitive properties were deprecated in 3.3 and support will be removed two minor releases later\n",
      "  plt.ylabel('Objective Value', FontSize=20)\n",
      "<ipython-input-13-9b8d8f4cdfb5>:13: MatplotlibDeprecationWarning: Case-insensitive properties were deprecated in 3.3 and support will be removed two minor releases later\n",
      "  plt.xticks(FontSize=16)\n",
      "<ipython-input-13-9b8d8f4cdfb5>:14: MatplotlibDeprecationWarning: Case-insensitive properties were deprecated in 3.3 and support will be removed two minor releases later\n",
      "  plt.yticks(FontSize=16)\n"
     ]
    },
    {
     "data": {
      "image/png": "[encoded data removed]",
      "text/plain": [
       "<Figure size 432x288 with 1 Axes>"
      ]
     },
     "metadata": {
      "needs_background": "light"
     },
     "output_type": "display_data"
    }
   ],
   "source": [
    "import matplotlib.pyplot as plt\n",
    "%matplotlib inline\n",
    "\n",
    "fig = plt.figure(figsize=(6, 4))\n",
    "\n",
    "epochs_gd = range(len(objvals_gd))\n",
    "epochs_sgd = range(len(objvals_sgd))\n",
    "\n",
    "line0, = plt.plot(epochs_gd, objvals_gd, '--b', LineWidth=4)\n",
    "line1, = plt.plot(epochs_sgd, objvals_sgd, '-r', LineWidth=2)\n",
    "plt.xlabel('Epochs', FontSize=20)\n",
    "plt.ylabel('Objective Value', FontSize=20)\n",
    "plt.xticks(FontSize=16)\n",
    "plt.yticks(FontSize=16)\n",
    "plt.legend([line0, line1], ['GD', 'SGD'], fontsize=20)\n",
    "plt.tight_layout()\n",
    "plt.show()\n",
    "fig.savefig('compare_gd_sgd.pdf', format='pdf', dpi=1200)"
   ]
  },
  {
   "cell_type": "markdown",
   "id": "thirty-digest",
   "metadata": {},
   "source": [
    "# 5. Prediction"
   ]
  },
  {
   "cell_type": "code",
   "execution_count": 14,
   "id": "better-relief",
   "metadata": {},
   "outputs": [],
   "source": [
    "# Predict class label\n",
    "# Inputs:\n",
    "#     w: d-by-1 matrix\n",
    "#     X: m-by-d matrix\n",
    "# Return:\n",
    "#     f: m-by-1 matrix, the predictions\n",
    "def predict(w, X):\n",
    "    xw = numpy.dot(X, w)\n",
    "    f = numpy.sign(xw)\n",
    "    return f"
   ]
  },
  {
   "cell_type": "code",
   "execution_count": 15,
   "id": "split-excellence",
   "metadata": {},
   "outputs": [
    {
     "name": "stdout",
     "output_type": "stream",
     "text": [
      "Training classification error is 0.215625\n"
     ]
    }
   ],
   "source": [
    "# evaluate training error\n",
    "f_train = predict(w, x_train)\n",
    "diff = numpy.abs(f_train - y_train) / 2\n",
    "error_train = numpy.mean(diff)\n",
    "print('Training classification error is ' + str(error_train))"
   ]
  },
  {
   "cell_type": "code",
   "execution_count": 16,
   "id": "mysterious-joining",
   "metadata": {},
   "outputs": [
    {
     "name": "stdout",
     "output_type": "stream",
     "text": [
      "Test classification error is 0.25\n"
     ]
    }
   ],
   "source": [
    "# evaluate test error\n",
    "f_test = predict(w, x_test)\n",
    "diff = numpy.abs(f_test - y_test) / 2\n",
    "error_test = numpy.mean(diff)\n",
    "print('Test classification error is ' + str(error_test))"
   ]
  },
  {
   "cell_type": "markdown",
   "id": "mighty-netherlands",
   "metadata": {},
   "source": [
    "# 6. Mini-batch SGD (fill the code)\n",
    "\n"
   ]
  },
  {
   "cell_type": "markdown",
   "id": "lonely-tribune",
   "metadata": {},
   "source": [
    "## 6.1. Compute the objective $Q_I$ and its gradient using a batch of samples\n",
    "\n",
    "Define $Q_I (w) = \\frac{1}{b} \\sum_{i \\in I} \\log \\Big( 1 + \\exp \\big( - y_i x_i^T w \\big) \\Big) + \\frac{\\lambda}{2} \\| w \\|_2^2 $, where $I$ is a set containing $b$ indices randomly drawn from $\\{ 1, \\cdots , n \\}$ without replacement.\n",
    "\n",
    "The stochastic gradient at $w$ is $g_I = \\frac{\\partial Q_I }{ \\partial w} = \\frac{1}{b} \\sum_{i \\in I} \\frac{- y_i x_i }{1 + \\exp ( y_i x_i^T w)} + \\lambda w$."
   ]
  },
  {
   "cell_type": "code",
   "execution_count": 17,
   "id": "attempted-mississippi",
   "metadata": {},
   "outputs": [],
   "source": [
    "# Calculate the objective Q_I and the gradient of Q_I\n",
    "# Inputs:\n",
    "#     w: d-by-1 matrix\n",
    "#     xi: b-by-d matrix\n",
    "#     yi: b-by-1 matrix\n",
    "#     lam: scalar, the regularization parameter\n",
    "#     b: integer, the batch size\n",
    "# Return:\n",
    "#     obj: scalar, the objective Q_i\n",
    "#     g: d-by-1 matrix, gradient of Q_i\n",
    "#def mb_stochastic_objective_gradient(w, xi, yi, lam, b):\n",
    "#    b, d = xi.shape\n",
    "#    yx = numpy.multiply(yi, xi) # b-by-d matrix\n",
    "#    yxw = numpy.dot(yx, w) # \n",
    "    \n",
    "    # calculate objective function Q_i\n",
    "#    loss = numpy.mean(numpy.log(1 + numpy.exp(-yxw))) # scalar\n",
    "#    reg = lam / 2 * numpy.sum(w * w) # scalar\n",
    "#    obj = loss + reg\n",
    "    \n",
    "    # calculate stochastic gradient\n",
    "#    g_loss = -yx.T / (1 + numpy.exp(yxw)) # d-by-1 matrix\n",
    "#    g = g_loss + lam * w # d-by-1 matrix\n",
    "    \n",
    "#    return obj, g\n",
    " "
   ]
  },
  {
   "cell_type": "code",
   "execution_count": 18,
   "id": "reported-pride",
   "metadata": {},
   "outputs": [],
   "source": [
    "def mb_stochastic_objective_gradient(w, xi, yi, lam, b):\n",
    "    b, d = xi.shape\n",
    "    yx = numpy.multiply(yi, xi) # b-by-d matrix\n",
    "    yxw = numpy.dot(yx, w) # b-by-1 matrix\n",
    "    \n",
    "    # calculate objective function Q_i\n",
    "    loss = numpy.sum(numpy.log(1 + numpy.exp(-yxw))) # n-by-1 matrix\n",
    "    reg = lam / 2 * numpy.sum(w * w) # scalar\n",
    "    obj = loss + reg\n",
    "    \n",
    "    # calculate stochastic gradient\n",
    "    vec1 = numpy.exp(yxw) # b-by-1 matrix\n",
    "    vec2 = numpy.divide(-yx, 1+vec1) # b-by-d matrix\n",
    "    vec3 = numpy.mean(vec2, axis=0).reshape(d, 1) # d-by-1 matrix\n",
    "    g = vec3 + lam * w # d-by-1 matrix\n",
    "    \n",
    "    return obj, g\n",
    " "
   ]
  },
  {
   "cell_type": "markdown",
   "id": "cooperative-support",
   "metadata": {},
   "source": [
    "## 6.2. Implement mini-batch SGD\n",
    "\n",
    "Hints:\n",
    "1. In every epoch, randomly permute the $n$ samples (just like SGD).\n",
    "2. Each epoch has $\\frac{n}{b}$ iterations. In every iteration, use $b$ samples, and compute the gradient and objective using the ``mb_stochastic_objective_gradient`` function. In the next iteration, use the next $b$ samples, and so on.\n"
   ]
  },
  {
   "cell_type": "code",
   "execution_count": 19,
   "id": "frozen-pound",
   "metadata": {},
   "outputs": [],
   "source": [
    "# Mini-Batch SGD for solving logistic regression\n",
    "# Inputs:\n",
    "#     x: n-by-d matrix\n",
    "#     y: n-by-1 matrix\n",
    "#     lam: scalar, the regularization parameter\n",
    "#     b: integer, the batch size\n",
    "#     stepsize: scalar\n",
    "#     max_epoch: integer, the maximal epochs\n",
    "#     w: d-by-1 matrix, initialization of w\n",
    "# Return:\n",
    "#     w: the solution\n",
    "#     objvals: record of each iteration's objective value\n",
    "\n",
    "def mb_sgd(x, y, lam, b, stepsize, max_epoch=100, w=None):\n",
    "    n, d = x.shape\n",
    "    objvals = numpy.zeros(max_epoch) # store the objective values\n",
    "    if w is None:\n",
    "        w = numpy.zeros((d, 1)) # zero initialization\n",
    "    \n",
    "    for t in range(max_epoch):\n",
    "        rand_indices = numpy.random.permutation(n)\n",
    "        x_rand = x[rand_indices, :]\n",
    "        y_rand = y[rand_indices, :]\n",
    "        \n",
    "        objval = 0 # accumulate the objective values\n",
    "        for i in range(0, n, b):\n",
    "            xi = x_rand[i:i + b] # 1-by-d matrix\n",
    "            yi = y_rand[i:i + b] # \n",
    "            obj, g = mb_stochastic_objective_gradient(w, xi, yi, lam, b)\n",
    "            objval += obj\n",
    "            w -= stepsize * g\n",
    "        \n",
    "        stepsize *= 0.9 # decrease step size\n",
    "        objval /= n\n",
    "        objvals[t] = objval\n",
    "        print('Objective value at epoch t=' + str(t) + ' is ' + str(objval))\n",
    "    \n",
    "    return w, objvals"
   ]
  },
  {
   "cell_type": "markdown",
   "id": "hidden-newton",
   "metadata": {},
   "source": [
    "## 6.3. Run MB-SGD"
   ]
  },
  {
   "cell_type": "code",
   "execution_count": 42,
   "id": "mounted-contract",
   "metadata": {},
   "outputs": [
    {
     "name": "stdout",
     "output_type": "stream",
     "text": [
      "Objective value at epoch t=0 is 0.5496962661208783\n",
      "Objective value at epoch t=1 is 0.49186788218085986\n",
      "Objective value at epoch t=2 is 0.4827196057755154\n",
      "Objective value at epoch t=3 is 0.4794586695659647\n",
      "Objective value at epoch t=4 is 0.47860935338967997\n",
      "Objective value at epoch t=5 is 0.47827429964093315\n",
      "Objective value at epoch t=6 is 0.4771963142393555\n",
      "Objective value at epoch t=7 is 0.4767827163404582\n",
      "Objective value at epoch t=8 is 0.4759356411698752\n",
      "Objective value at epoch t=9 is 0.4759242634518383\n",
      "Objective value at epoch t=10 is 0.47560800823875127\n",
      "Objective value at epoch t=11 is 0.47517037059493433\n",
      "Objective value at epoch t=12 is 0.4750050716444818\n",
      "Objective value at epoch t=13 is 0.47480110212520155\n",
      "Objective value at epoch t=14 is 0.47477529652651673\n",
      "Objective value at epoch t=15 is 0.47446954222822263\n",
      "Objective value at epoch t=16 is 0.47440419664780026\n",
      "Objective value at epoch t=17 is 0.4742456149296969\n",
      "Objective value at epoch t=18 is 0.4740313357294381\n",
      "Objective value at epoch t=19 is 0.4738026092044456\n",
      "Objective value at epoch t=20 is 0.47386960426638425\n",
      "Objective value at epoch t=21 is 0.4737094711990147\n",
      "Objective value at epoch t=22 is 0.4735481771122239\n",
      "Objective value at epoch t=23 is 0.4735583395041553\n",
      "Objective value at epoch t=24 is 0.4734780379848771\n",
      "Objective value at epoch t=25 is 0.47342860595042036\n",
      "Objective value at epoch t=26 is 0.47335517717033737\n",
      "Objective value at epoch t=27 is 0.4732606564849159\n",
      "Objective value at epoch t=28 is 0.47324489463231895\n",
      "Objective value at epoch t=29 is 0.4732163945532296\n",
      "Objective value at epoch t=30 is 0.4731786489759653\n",
      "Objective value at epoch t=31 is 0.4730840934785623\n",
      "Objective value at epoch t=32 is 0.47312730457332536\n",
      "Objective value at epoch t=33 is 0.47306615739608293\n",
      "Objective value at epoch t=34 is 0.473065579726429\n",
      "Objective value at epoch t=35 is 0.47303541666881016\n",
      "Objective value at epoch t=36 is 0.47299723685292294\n",
      "Objective value at epoch t=37 is 0.4729725897357606\n",
      "Objective value at epoch t=38 is 0.47297375019568744\n",
      "Objective value at epoch t=39 is 0.4729735290392215\n",
      "Objective value at epoch t=40 is 0.472946451441317\n",
      "Objective value at epoch t=41 is 0.47292921257907794\n",
      "Objective value at epoch t=42 is 0.47293299347942935\n",
      "Objective value at epoch t=43 is 0.47291183873279036\n",
      "Objective value at epoch t=44 is 0.4729036126010403\n",
      "Objective value at epoch t=45 is 0.4728955236838884\n",
      "Objective value at epoch t=46 is 0.4728813453005215\n",
      "Objective value at epoch t=47 is 0.47287889823123086\n",
      "Objective value at epoch t=48 is 0.4728688604154242\n",
      "Objective value at epoch t=49 is 0.4728690616682192\n",
      "Objective value at epoch t=50 is 0.47285911306552364\n",
      "Objective value at epoch t=51 is 0.4728591020138563\n",
      "Objective value at epoch t=52 is 0.4728547528505815\n",
      "Objective value at epoch t=53 is 0.47284882595298716\n",
      "Objective value at epoch t=54 is 0.4728480245345133\n",
      "Objective value at epoch t=55 is 0.4728426204434372\n",
      "Objective value at epoch t=56 is 0.47284142344671737\n",
      "Objective value at epoch t=57 is 0.4728401155124011\n",
      "Objective value at epoch t=58 is 0.47283898500226657\n",
      "Objective value at epoch t=59 is 0.4728353800545942\n",
      "Objective value at epoch t=60 is 0.47283309439335675\n",
      "Objective value at epoch t=61 is 0.4728317121103161\n",
      "Objective value at epoch t=62 is 0.4728309975356108\n",
      "Objective value at epoch t=63 is 0.4728297900473776\n",
      "Objective value at epoch t=64 is 0.4728293484115834\n",
      "Objective value at epoch t=65 is 0.47282780812678976\n",
      "Objective value at epoch t=66 is 0.4728269521174037\n",
      "Objective value at epoch t=67 is 0.47282599330330194\n",
      "Objective value at epoch t=68 is 0.47282493240121504\n",
      "Objective value at epoch t=69 is 0.4728247800600716\n",
      "Objective value at epoch t=70 is 0.4728242017866937\n",
      "Objective value at epoch t=71 is 0.4728236251389781\n",
      "Objective value at epoch t=72 is 0.47282361321311817\n",
      "Objective value at epoch t=73 is 0.4728228087141998\n",
      "Objective value at epoch t=74 is 0.4728226377576298\n",
      "Objective value at epoch t=75 is 0.4728220189116158\n",
      "Objective value at epoch t=76 is 0.4728218813127961\n",
      "Objective value at epoch t=77 is 0.47282169027259346\n",
      "Objective value at epoch t=78 is 0.47282116466599555\n",
      "Objective value at epoch t=79 is 0.47282108944416484\n",
      "Objective value at epoch t=80 is 0.47282077272879375\n",
      "Objective value at epoch t=81 is 0.47282058286488493\n",
      "Objective value at epoch t=82 is 0.47282042096505805\n",
      "Objective value at epoch t=83 is 0.4728203882493472\n",
      "Objective value at epoch t=84 is 0.47282030246099394\n",
      "Objective value at epoch t=85 is 0.47282015898283536\n",
      "Objective value at epoch t=86 is 0.4728199542270944\n",
      "Objective value at epoch t=87 is 0.4728199144062744\n",
      "Objective value at epoch t=88 is 0.47281977368897976\n",
      "Objective value at epoch t=89 is 0.4728197635829107\n",
      "Objective value at epoch t=90 is 0.4728196687772902\n",
      "Objective value at epoch t=91 is 0.4728196024136036\n",
      "Objective value at epoch t=92 is 0.472819550218022\n",
      "Objective value at epoch t=93 is 0.4728194814143625\n",
      "Objective value at epoch t=94 is 0.4728194615785828\n",
      "Objective value at epoch t=95 is 0.47281939761387104\n",
      "Objective value at epoch t=96 is 0.472819335526881\n",
      "Objective value at epoch t=97 is 0.47281931998561744\n",
      "Objective value at epoch t=98 is 0.47281929388627597\n",
      "Objective value at epoch t=99 is 0.4728192904247123\n"
     ]
    }
   ],
   "source": [
    "# MB-SGD with batch size b=8\n",
    "lam = 1E-6 # do not change\n",
    "b = 8 # do not change\n",
    "stepsize = .09 # you must tune this parameter - tuned to .09 after trying different step sizes, this lead to the quickest conversion\n",
    "\n",
    "w, objvals_mbsgd8 = mb_sgd(x_train, y_train, lam, b, stepsize)"
   ]
  },
  {
   "cell_type": "code",
   "execution_count": 43,
   "id": "sunrise-mills",
   "metadata": {},
   "outputs": [
    {
     "name": "stdout",
     "output_type": "stream",
     "text": [
      "Objective value at epoch t=0 is 0.5662584950281031\n",
      "Objective value at epoch t=1 is 0.49313694030563476\n",
      "Objective value at epoch t=2 is 0.48200823825466566\n",
      "Objective value at epoch t=3 is 0.48001688410343074\n",
      "Objective value at epoch t=4 is 0.4767486973482559\n",
      "Objective value at epoch t=5 is 0.47721714859196734\n",
      "Objective value at epoch t=6 is 0.47775234585502446\n",
      "Objective value at epoch t=7 is 0.47571514206621784\n",
      "Objective value at epoch t=8 is 0.4754615968755669\n",
      "Objective value at epoch t=9 is 0.47523156898784685\n",
      "Objective value at epoch t=10 is 0.47561210267902576\n",
      "Objective value at epoch t=11 is 0.4743738424120769\n",
      "Objective value at epoch t=12 is 0.4744449429837648\n",
      "Objective value at epoch t=13 is 0.4747016912330248\n",
      "Objective value at epoch t=14 is 0.47461536749598815\n",
      "Objective value at epoch t=15 is 0.4741758061220788\n",
      "Objective value at epoch t=16 is 0.4743470388098675\n",
      "Objective value at epoch t=17 is 0.4735827051712064\n",
      "Objective value at epoch t=18 is 0.474058963993261\n",
      "Objective value at epoch t=19 is 0.4735009791398513\n",
      "Objective value at epoch t=20 is 0.4734672276512488\n",
      "Objective value at epoch t=21 is 0.4734138252660617\n",
      "Objective value at epoch t=22 is 0.4734792259563805\n",
      "Objective value at epoch t=23 is 0.473403652033286\n",
      "Objective value at epoch t=24 is 0.47332122779030855\n",
      "Objective value at epoch t=25 is 0.4731126734870218\n",
      "Objective value at epoch t=26 is 0.4732359873233377\n",
      "Objective value at epoch t=27 is 0.4732101337668519\n",
      "Objective value at epoch t=28 is 0.47308283495038\n",
      "Objective value at epoch t=29 is 0.47316790303329725\n",
      "Objective value at epoch t=30 is 0.47308924433729915\n",
      "Objective value at epoch t=31 is 0.4730581028665134\n",
      "Objective value at epoch t=32 is 0.4730377521424117\n",
      "Objective value at epoch t=33 is 0.473066454705042\n",
      "Objective value at epoch t=34 is 0.47300633690695193\n",
      "Objective value at epoch t=35 is 0.47296899443305174\n",
      "Objective value at epoch t=36 is 0.472999059459692\n",
      "Objective value at epoch t=37 is 0.47297704204717783\n",
      "Objective value at epoch t=38 is 0.4729338764493455\n",
      "Objective value at epoch t=39 is 0.47289966321457066\n",
      "Objective value at epoch t=40 is 0.47291595047357216\n",
      "Objective value at epoch t=41 is 0.47289716197738346\n",
      "Objective value at epoch t=42 is 0.4728894523377566\n",
      "Objective value at epoch t=43 is 0.47289154961154434\n",
      "Objective value at epoch t=44 is 0.47288394196011313\n",
      "Objective value at epoch t=45 is 0.47287644373781107\n",
      "Objective value at epoch t=46 is 0.47287632287569137\n",
      "Objective value at epoch t=47 is 0.4728712492573365\n",
      "Objective value at epoch t=48 is 0.4728535927318894\n",
      "Objective value at epoch t=49 is 0.47286309252024833\n",
      "Objective value at epoch t=50 is 0.47285966445578714\n",
      "Objective value at epoch t=51 is 0.4728530399700525\n",
      "Objective value at epoch t=52 is 0.4728489392576235\n",
      "Objective value at epoch t=53 is 0.4728535064329923\n",
      "Objective value at epoch t=54 is 0.47284736836099706\n",
      "Objective value at epoch t=55 is 0.4728455542049689\n",
      "Objective value at epoch t=56 is 0.47284051048886855\n",
      "Objective value at epoch t=57 is 0.4728417087529575\n",
      "Objective value at epoch t=58 is 0.47284248233622517\n",
      "Objective value at epoch t=59 is 0.4728413904761914\n",
      "Objective value at epoch t=60 is 0.4728363654638458\n",
      "Objective value at epoch t=61 is 0.4728366899494845\n",
      "Objective value at epoch t=62 is 0.4728353723104455\n",
      "Objective value at epoch t=63 is 0.4728364782546478\n",
      "Objective value at epoch t=64 is 0.47283335647019903\n",
      "Objective value at epoch t=65 is 0.4728322527001187\n",
      "Objective value at epoch t=66 is 0.4728319948007438\n",
      "Objective value at epoch t=67 is 0.4728327677503873\n",
      "Objective value at epoch t=68 is 0.47283111911671477\n",
      "Objective value at epoch t=69 is 0.4728304741993992\n",
      "Objective value at epoch t=70 is 0.47283013600643253\n",
      "Objective value at epoch t=71 is 0.4728295664017897\n",
      "Objective value at epoch t=72 is 0.4728297139596386\n",
      "Objective value at epoch t=73 is 0.47282908183971956\n",
      "Objective value at epoch t=74 is 0.4728294107894849\n",
      "Objective value at epoch t=75 is 0.47282848790606924\n",
      "Objective value at epoch t=76 is 0.47282869045023784\n",
      "Objective value at epoch t=77 is 0.4728281407450078\n",
      "Objective value at epoch t=78 is 0.4728278522686787\n",
      "Objective value at epoch t=79 is 0.4728276076384733\n",
      "Objective value at epoch t=80 is 0.47282751472289564\n",
      "Objective value at epoch t=81 is 0.47282795957649243\n",
      "Objective value at epoch t=82 is 0.47282774376866377\n",
      "Objective value at epoch t=83 is 0.4728272339973044\n",
      "Objective value at epoch t=84 is 0.4728273681802374\n",
      "Objective value at epoch t=85 is 0.47282711765398855\n",
      "Objective value at epoch t=86 is 0.4728269046657866\n",
      "Objective value at epoch t=87 is 0.47282693350362415\n",
      "Objective value at epoch t=88 is 0.47282685922888523\n",
      "Objective value at epoch t=89 is 0.4728268553965802\n",
      "Objective value at epoch t=90 is 0.47282682622774486\n",
      "Objective value at epoch t=91 is 0.4728267436105841\n",
      "Objective value at epoch t=92 is 0.47282676900567344\n",
      "Objective value at epoch t=93 is 0.4728266478484531\n",
      "Objective value at epoch t=94 is 0.47282661685512234\n",
      "Objective value at epoch t=95 is 0.4728265820800859\n",
      "Objective value at epoch t=96 is 0.47282648812164174\n",
      "Objective value at epoch t=97 is 0.4728264598268795\n",
      "Objective value at epoch t=98 is 0.47282652351678667\n",
      "Objective value at epoch t=99 is 0.47282647350359175\n"
     ]
    }
   ],
   "source": [
    "# MB-SGD with batch size b=64\n",
    "lam = 1E-6 # do not change\n",
    "b = 64 # do not change\n",
    "stepsize = .6 # you must tune this parameter- tuned to .6 after trying different step sizes, this lead to the quickest conversion\n",
    "\n",
    "w, objvals_mbsgd64 = mb_sgd(x_train, y_train, lam, b, stepsize)"
   ]
  },
  {
   "cell_type": "markdown",
   "id": "supposed-islam",
   "metadata": {},
   "source": [
    "## 7. Plot and compare GD, SGD, and MB-SGD"
   ]
  },
  {
   "cell_type": "markdown",
   "id": "earned-cotton",
   "metadata": {},
   "source": [
    "You are required to compare the following algorithms:\n",
    "\n",
    "- Gradient descent (GD)\n",
    "\n",
    "- SGD\n",
    "\n",
    "- MB-SGD with b=8\n",
    "\n",
    "- MB-SGD with b=64\n",
    "\n",
    "Follow the code in Section 4 to plot ```objective function value``` against ```epochs```. There should be four curves in the plot; each curve corresponds to one algorithm."
   ]
  },
  {
   "cell_type": "markdown",
   "id": "female-import",
   "metadata": {},
   "source": [
    "Hint: Logistic regression with $\\ell_2$-norm regularization is a strongly convex optimization problem. All the algorithms will converge to the same solution. **In the end, the ``objective function value`` of the 4 algorithms will be the same. If not the same, your implementation must be wrong. Do NOT submit wrong code and wrong result!**"
   ]
  },
  {
   "cell_type": "code",
   "execution_count": 44,
   "id": "future-earth",
   "metadata": {},
   "outputs": [],
   "source": [
    "# plot the 4 curves:"
   ]
  },
  {
   "cell_type": "code",
   "execution_count": 45,
   "id": "israeli-obligation",
   "metadata": {},
   "outputs": [
    {
     "name": "stderr",
     "output_type": "stream",
     "text": [
      "<ipython-input-45-f0afc00e3865>:12: MatplotlibDeprecationWarning: Case-insensitive properties were deprecated in 3.3 and support will be removed two minor releases later\n",
      "  line0, = plt.plot(epochs_gd, objvals_gd, '--b', LineWidth=2)\n",
      "<ipython-input-45-f0afc00e3865>:13: MatplotlibDeprecationWarning: Case-insensitive properties were deprecated in 3.3 and support will be removed two minor releases later\n",
      "  line1, = plt.plot(epochs_sgd, objvals_sgd, '--r', LineWidth=2)\n",
      "<ipython-input-45-f0afc00e3865>:14: MatplotlibDeprecationWarning: Case-insensitive properties were deprecated in 3.3 and support will be removed two minor releases later\n",
      "  line2, = plt.plot(epochs_mbsgd8, objvals_mbsgd8, '--o', LineWidth=2)\n",
      "<ipython-input-45-f0afc00e3865>:15: MatplotlibDeprecationWarning: Case-insensitive properties were deprecated in 3.3 and support will be removed two minor releases later\n",
      "  line3, = plt.plot(epochs_mbsgd64, objvals_mbsgd64, '--g', LineWidth=2)\n",
      "<ipython-input-45-f0afc00e3865>:16: MatplotlibDeprecationWarning: Case-insensitive properties were deprecated in 3.3 and support will be removed two minor releases later\n",
      "  plt.xlabel('Epochs', FontSize=20)\n",
      "<ipython-input-45-f0afc00e3865>:17: MatplotlibDeprecationWarning: Case-insensitive properties were deprecated in 3.3 and support will be removed two minor releases later\n",
      "  plt.ylabel('Objective Value', FontSize=20)\n",
      "<ipython-input-45-f0afc00e3865>:18: MatplotlibDeprecationWarning: Case-insensitive properties were deprecated in 3.3 and support will be removed two minor releases later\n",
      "  plt.xticks(FontSize=16)\n",
      "<ipython-input-45-f0afc00e3865>:19: MatplotlibDeprecationWarning: Case-insensitive properties were deprecated in 3.3 and support will be removed two minor releases later\n",
      "  plt.yticks(FontSize=16)\n"
     ]
    },
    {
     "data": {
      "image/png": "[encoded data removed]",
      "text/plain": [
       "<Figure size 432x288 with 1 Axes>"
      ]
     },
     "metadata": {
      "needs_background": "light"
     },
     "output_type": "display_data"
    }
   ],
   "source": [
    "import matplotlib.pyplot as plt\n",
    "%matplotlib inline\n",
    "\n",
    "fig = plt.figure(figsize=(6, 4))\n",
    "\n",
    "epochs_gd = range(len(objvals_gd))\n",
    "epochs_sgd = range(len(objvals_sgd))\n",
    "epochs_mbsgd8 = range(len(objvals_mbsgd8))\n",
    "epochs_mbsgd64 = range(len(objvals_mbsgd64))\n",
    "\n",
    "\n",
    "line0, = plt.plot(epochs_gd, objvals_gd, '--b', LineWidth=2)\n",
    "line1, = plt.plot(epochs_sgd, objvals_sgd, '--r', LineWidth=2)\n",
    "line2, = plt.plot(epochs_mbsgd8, objvals_mbsgd8, '--o', LineWidth=2)\n",
    "line3, = plt.plot(epochs_mbsgd64, objvals_mbsgd64, '--g', LineWidth=2)\n",
    "plt.xlabel('Epochs', FontSize=20)\n",
    "plt.ylabel('Objective Value', FontSize=20)\n",
    "plt.xticks(FontSize=16)\n",
    "plt.yticks(FontSize=16)\n",
    "plt.legend([line0, line1, line2, line3], ['GD', 'SGD','MBSGD8', 'MBSGD64'], fontsize=10)\n",
    "plt.tight_layout()\n",
    "plt.show()\n",
    "fig.savefig('compare_gd_sgd.pdf', format='pdf', dpi=1200)"
   ]
  },
  {
   "cell_type": "code",
   "execution_count": null,
   "id": "graphic-seven",
   "metadata": {},
   "outputs": [],
   "source": []
  },
  {
   "cell_type": "code",
   "execution_count": null,
   "id": "handmade-rider",
   "metadata": {},
   "outputs": [],
   "source": []
  },
  {
   "cell_type": "code",
   "execution_count": null,
   "id": "manual-communication",
   "metadata": {},
   "outputs": [],
   "source": []
  }
 ],
 "metadata": {
  "kernelspec": {
   "display_name": "Python 3",
   "language": "python",
   "name": "python3"
  },
  "language_info": {
   "codemirror_mode": {
    "name": "ipython",
    "version": 3
   },
   "file_extension": ".py",
   "mimetype": "text/x-python",
   "name": "python",
   "nbconvert_exporter": "python",
   "pygments_lexer": "ipython3",
   "version": "3.9.2"
  }
 },
 "nbformat": 4,
 "nbformat_minor": 5
}
