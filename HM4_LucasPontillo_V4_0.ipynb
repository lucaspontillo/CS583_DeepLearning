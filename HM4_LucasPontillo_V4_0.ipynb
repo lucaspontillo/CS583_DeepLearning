{
  "nbformat": 4,
  "nbformat_minor": 0,
  "metadata": {
    "kernelspec": {
      "display_name": "Python 3",
      "language": "python",
      "name": "python3"
    },
    "language_info": {
      "codemirror_mode": {
        "name": "ipython",
        "version": 3
      },
      "file_extension": ".py",
      "mimetype": "text/x-python",
      "name": "python",
      "nbconvert_exporter": "python",
      "pygments_lexer": "ipython3",
      "version": "3.6.4"
    },
    "colab": {
      "name": "HM4-LucasPontillo_V4.0.ipynb",
      "provenance": [],
      "collapsed_sections": []
    },
    "accelerator": "GPU"
  },
  "cells": [
    {
      "cell_type": "markdown",
      "metadata": {
        "id": "UHnAZ4FEBHs9"
      },
      "source": [
        "# Home 4: Build a CNN for image recognition.\n",
        "\n",
        "### Name: Lucas Pontillo\n"
      ]
    },
    {
      "cell_type": "markdown",
      "metadata": {
        "id": "BbZCvFGBBHs-"
      },
      "source": [
        "## 0. You will do the following:\n",
        "\n",
        "1. Read, complete, and run the code.\n",
        "\n",
        "2. **Make substantial improvements** to maximize the accurcy.\n",
        "    \n",
        "3. Convert the .IPYNB file to .HTML file.\n",
        "\n",
        "    * The HTML file must contain the code and the output after execution.\n",
        "    \n",
        "    * Missing **the output after execution** will not be graded.\n",
        "    \n",
        "4. Upload this .HTML file to your Google Drive, Dropbox, or Github repo. (If you submit the file to Google Drive or Dropbox, you must make the file \"open-access\". The delay caused by \"deny of access\" may result in late penalty.)\n",
        "\n",
        "4. Submit the link to this .HTML file to Canvas.\n",
        "\n",
        "    * Example: https://github.com/wangshusen/CS583-2020S/blob/master/homework/HM4/HM4.html\n",
        "\n",
        "\n",
        "## Requirements:\n",
        "\n",
        "1. You can use whatever CNN architecture, including VGG, Inception, and ResNet. However, you must build the networks layer by layer. You must NOT import the archetectures from ```keras.applications```.\n",
        "\n",
        "2. Make sure ```BatchNormalization``` is between a ```Conv```/```Dense``` layer and an ```activation``` layer.\n",
        "\n",
        "3. If you want to regularize a ```Conv```/```Dense``` layer, you should place a ```Dropout``` layer **before** the ```Conv```/```Dense``` layer.\n",
        "\n",
        "4. An accuracy above 70% is considered reasonable. An accuracy above 80% is considered good. Without data augmentation, achieving 80% accuracy is difficult.\n",
        "\n",
        "\n",
        "## Google Colab\n",
        "\n",
        "- If you do not have GPU, the training of a CNN can be slow. Google Colab is a good option.\n",
        "\n",
        "- Keep in mind that you must download it as an IPYNB file and then use IPython Notebook to convert it to HTML.\n",
        "\n",
        "- Also keep in mind that the IPYNB and HTML files must contain the outputs. (Otherwise, the instructor will not be able to know the correctness and performance.) Do the followings to keep the outputs.\n",
        "\n",
        "- In Colab, go to ```Runtime``` --> ```Change runtime type``` --> Do NOT check ```Omit code cell output when saving this notebook```. In this way, the downloaded IPYNB file contains the outputs."
      ]
    },
    {
      "cell_type": "markdown",
      "metadata": {
        "id": "4PXgRsGiBHs_"
      },
      "source": [
        "## 1. Data preparation"
      ]
    },
    {
      "cell_type": "markdown",
      "metadata": {
        "id": "gaMZZFMhBHs_"
      },
      "source": [
        "### 1.1. Load data\n"
      ]
    },
    {
      "cell_type": "code",
      "metadata": {
        "colab": {
          "base_uri": "https://localhost:8080/"
        },
        "id": "7CPqzN-xBHtA",
        "outputId": "27b274a1-2135-4fa2-c645-2df932ba8bb5"
      },
      "source": [
        "from keras.datasets import cifar10\n",
        "import numpy\n",
        "\n",
        "(x_train, y_train), (x_test, y_test) = cifar10.load_data()\n",
        "\n",
        "print('shape of x_train: ' + str(x_train.shape))\n",
        "print('shape of y_train: ' + str(y_train.shape))\n",
        "print('shape of x_test: ' + str(x_test.shape))\n",
        "print('shape of y_test: ' + str(y_test.shape))\n",
        "print('number of classes: ' + str(numpy.max(y_train) - numpy.min(y_train) + 1))"
      ],
      "execution_count": 1,
      "outputs": [
        {
          "output_type": "stream",
          "text": [
            "shape of x_train: (50000, 32, 32, 3)\n",
            "shape of y_train: (50000, 1)\n",
            "shape of x_test: (10000, 32, 32, 3)\n",
            "shape of y_test: (10000, 1)\n",
            "number of classes: 10\n"
          ],
          "name": "stdout"
        }
      ]
    },
    {
      "cell_type": "markdown",
      "metadata": {
        "id": "dcsOg_DWBHtA"
      },
      "source": [
        "### 1.2. One-hot encode the labels\n",
        "\n",
        "In the input, a label is a scalar in $\\{0, 1, \\cdots , 9\\}$. One-hot encode transform such a scalar to a $10$-dim vector. E.g., a scalar ```y_train[j]=3``` is transformed to the vector ```y_train_vec[j]=[0, 0, 0, 1, 0, 0, 0, 0, 0, 0]```.\n",
        "\n",
        "1. Define a function ```to_one_hot``` that transforms an $n\\times 1$ array to a $n\\times 10$ matrix.\n",
        "\n",
        "2. Apply the function to ```y_train``` and ```y_test```."
      ]
    },
    {
      "cell_type": "code",
      "metadata": {
        "colab": {
          "base_uri": "https://localhost:8080/"
        },
        "id": "2hr0SFT6BHtA",
        "outputId": "2b66669f-7bb7-42c9-ad02-2d42e8d6b2a2"
      },
      "source": [
        "def to_one_hot(y, num_class=10):\n",
        "    results = numpy.zeros((len(y), num_class))\n",
        "    for i, y in enumerate(y):\n",
        "        results[i, y] = 1.\n",
        "    return results\n",
        "y_train_vec = to_one_hot(y_train)\n",
        "y_test_vec = to_one_hot(y_test)\n",
        "\n",
        "print('Shape of y_train_vec: ' + str(y_train_vec.shape))\n",
        "print('Shape of y_test_vec: ' + str(y_test_vec.shape))\n",
        "\n",
        "print(y_train[0])\n",
        "print(y_train_vec[0])"
      ],
      "execution_count": 2,
      "outputs": [
        {
          "output_type": "stream",
          "text": [
            "Shape of y_train_vec: (50000, 10)\n",
            "Shape of y_test_vec: (10000, 10)\n",
            "[6]\n",
            "[0. 0. 0. 0. 0. 0. 1. 0. 0. 0.]\n"
          ],
          "name": "stdout"
        }
      ]
    },
    {
      "cell_type": "markdown",
      "metadata": {
        "id": "EtNj-C18BHtB"
      },
      "source": [
        "#### Remark: the outputs should be\n",
        "* Shape of y_train_vec: (50000, 10)\n",
        "* Shape of y_test_vec: (10000, 10)\n",
        "* [6]\n",
        "* [0. 0. 0. 0. 0. 0. 1. 0. 0. 0.]"
      ]
    },
    {
      "cell_type": "markdown",
      "metadata": {
        "id": "nic5E3GIBHtB"
      },
      "source": [
        "### 1.3. Randomly partition the training set to training and validation sets\n",
        "\n",
        "Randomly partition the 50K training samples to 2 sets:\n",
        "* a training set containing 40K samples\n",
        "* a validation set containing 10K samples\n"
      ]
    },
    {
      "cell_type": "code",
      "metadata": {
        "colab": {
          "base_uri": "https://localhost:8080/"
        },
        "id": "G5hbxje4BHtB",
        "outputId": "dfe24dc1-1018-4ee4-866d-7a5fb8c54bd1"
      },
      "source": [
        "rand_indices = numpy.random.permutation(50000)\n",
        "train_indices = rand_indices[0:40000]\n",
        "valid_indices = rand_indices[40000:50000]\n",
        "\n",
        "x_val = x_train[valid_indices, :]\n",
        "y_val = y_train_vec[valid_indices, :]\n",
        "\n",
        "x_tr = x_train[train_indices, :]\n",
        "y_tr = y_train_vec[train_indices, :]\n",
        "\n",
        "print('Shape of x_tr: ' + str(x_tr.shape))\n",
        "print('Shape of y_tr: ' + str(y_tr.shape))\n",
        "print('Shape of x_val: ' + str(x_val.shape))\n",
        "print('Shape of y_val: ' + str(y_val.shape))"
      ],
      "execution_count": 3,
      "outputs": [
        {
          "output_type": "stream",
          "text": [
            "Shape of x_tr: (40000, 32, 32, 3)\n",
            "Shape of y_tr: (40000, 10)\n",
            "Shape of x_val: (10000, 32, 32, 3)\n",
            "Shape of y_val: (10000, 10)\n"
          ],
          "name": "stdout"
        }
      ]
    },
    {
      "cell_type": "markdown",
      "metadata": {
        "id": "Pfgm5jn7BHtB"
      },
      "source": [
        "## 2. Build a CNN and tune its hyper-parameters\n",
        "\n",
        "1. Build a convolutional neural network model\n",
        "2. Use the validation data to tune the hyper-parameters (e.g., network structure, and optimization algorithm)\n",
        "    * Do NOT use test data for hyper-parameter tuning!!!\n",
        "3. Try to achieve a validation accuracy as high as possible."
      ]
    },
    {
      "cell_type": "markdown",
      "metadata": {
        "id": "T5M8UbFCBHtC"
      },
      "source": [
        "### Remark: \n",
        "\n",
        "The following CNN is just an example. You are supposed to make **substantial improvements** such as:\n",
        "* Add more layers.\n",
        "* Use regularizations, e.g., dropout.\n",
        "* Use batch normalization."
      ]
    },
    {
      "cell_type": "code",
      "metadata": {
        "colab": {
          "base_uri": "https://localhost:8080/"
        },
        "id": "CZn0BD9_BHtC",
        "outputId": "dbcd6c1a-eb0f-4bb7-cab2-ccb6fe7baf08"
      },
      "source": [
        "from keras.layers import Conv2D, MaxPooling2D, Flatten, Dense, Dropout, BatchNormalization\n",
        "from keras.models import Sequential\n",
        "from keras import layers\n",
        "\n",
        "model = Sequential()\n",
        "model.add(Conv2D(32, (3, 3), activation='relu', padding='same', input_shape=(32, 32, 3)))\n",
        "model.add(Conv2D(32, (3, 3)))\n",
        "model.add(BatchNormalization())\n",
        "model.add(layers.Activation('relu'))\n",
        "model.add(MaxPooling2D((2, 2)))\n",
        "model.add(Conv2D(64, (3, 3), activation='relu', padding='same'))\n",
        "model.add(Conv2D(64, (3, 3)))\n",
        "model.add(BatchNormalization())\n",
        "model.add(layers.Activation('relu'))\n",
        "model.add(MaxPooling2D((2, 2)))\n",
        "model.add(Conv2D(128, (3, 3), activation='relu', padding='same'))\n",
        "model.add(Conv2D(128, (3, 3), activation='relu', padding='same'))\n",
        "model.add(Conv2D(128, (3, 3)))\n",
        "model.add(BatchNormalization())\n",
        "model.add(layers.Activation('relu'))\n",
        "model.add(MaxPooling2D((2, 2)))\n",
        "model.add(Flatten())\n",
        "model.add(Dropout(0.5))\n",
        "model.add(Dense(128))\n",
        "model.add(BatchNormalization())\n",
        "model.add(layers.Activation('relu'))\n",
        "model.add(Dense(10, activation='softmax'))\n",
        "model.summary()"
      ],
      "execution_count": 4,
      "outputs": [
        {
          "output_type": "stream",
          "text": [
            "Model: \"sequential\"\n",
            "_________________________________________________________________\n",
            "Layer (type)                 Output Shape              Param #   \n",
            "=================================================================\n",
            "conv2d (Conv2D)              (None, 32, 32, 32)        896       \n",
            "_________________________________________________________________\n",
            "conv2d_1 (Conv2D)            (None, 30, 30, 32)        9248      \n",
            "_________________________________________________________________\n",
            "batch_normalization (BatchNo (None, 30, 30, 32)        128       \n",
            "_________________________________________________________________\n",
            "activation (Activation)      (None, 30, 30, 32)        0         \n",
            "_________________________________________________________________\n",
            "max_pooling2d (MaxPooling2D) (None, 15, 15, 32)        0         \n",
            "_________________________________________________________________\n",
            "conv2d_2 (Conv2D)            (None, 15, 15, 64)        18496     \n",
            "_________________________________________________________________\n",
            "conv2d_3 (Conv2D)            (None, 13, 13, 64)        36928     \n",
            "_________________________________________________________________\n",
            "batch_normalization_1 (Batch (None, 13, 13, 64)        256       \n",
            "_________________________________________________________________\n",
            "activation_1 (Activation)    (None, 13, 13, 64)        0         \n",
            "_________________________________________________________________\n",
            "max_pooling2d_1 (MaxPooling2 (None, 6, 6, 64)          0         \n",
            "_________________________________________________________________\n",
            "conv2d_4 (Conv2D)            (None, 6, 6, 128)         73856     \n",
            "_________________________________________________________________\n",
            "conv2d_5 (Conv2D)            (None, 6, 6, 128)         147584    \n",
            "_________________________________________________________________\n",
            "conv2d_6 (Conv2D)            (None, 4, 4, 128)         147584    \n",
            "_________________________________________________________________\n",
            "batch_normalization_2 (Batch (None, 4, 4, 128)         512       \n",
            "_________________________________________________________________\n",
            "activation_2 (Activation)    (None, 4, 4, 128)         0         \n",
            "_________________________________________________________________\n",
            "max_pooling2d_2 (MaxPooling2 (None, 2, 2, 128)         0         \n",
            "_________________________________________________________________\n",
            "flatten (Flatten)            (None, 512)               0         \n",
            "_________________________________________________________________\n",
            "dropout (Dropout)            (None, 512)               0         \n",
            "_________________________________________________________________\n",
            "dense (Dense)                (None, 128)               65664     \n",
            "_________________________________________________________________\n",
            "batch_normalization_3 (Batch (None, 128)               512       \n",
            "_________________________________________________________________\n",
            "activation_3 (Activation)    (None, 128)               0         \n",
            "_________________________________________________________________\n",
            "dense_1 (Dense)              (None, 10)                1290      \n",
            "=================================================================\n",
            "Total params: 502,954\n",
            "Trainable params: 502,250\n",
            "Non-trainable params: 704\n",
            "_________________________________________________________________\n"
          ],
          "name": "stdout"
        }
      ]
    },
    {
      "cell_type": "code",
      "metadata": {
        "id": "fTQz4qRuBHtC"
      },
      "source": [
        "from keras import optimizers\n",
        "\n",
        "#learning_rate = 0.001 # to be tuned!\n",
        "\n",
        "#model.compile(loss='categorical_crossentropy',\n",
        "#              optimizer=optimizers.RMSprop(lr=learning_rate),\n",
        "#              metrics=['acc'])\n",
        "\n",
        "model.compile(loss='categorical_crossentropy',\n",
        "              optimizer=\"Adam\",\n",
        "              metrics=['acc'])"
      ],
      "execution_count": 5,
      "outputs": []
    },
    {
      "cell_type": "code",
      "metadata": {
        "id": "3dxlnE2KXGHu",
        "colab": {
          "base_uri": "https://localhost:8080/"
        },
        "outputId": "430a04df-3841-422a-ddce-f52aa28a0eba"
      },
      "source": [
        "from keras.preprocessing.image import ImageDataGenerator\n",
        "datagen = ImageDataGenerator(width_shift_range=0.1, height_shift_range=0.1, horizontal_flip=True)\n",
        "datagen.fit(x_tr)\n",
        "it_train = datagen.flow(x_tr, y_tr, batch_size=32)\n",
        "steps = int(x_tr.shape[0] / 32)\n",
        "history = model.fit_generator(it_train, steps_per_epoch = steps, epochs = 25, validation_data=(x_val, y_val))"
      ],
      "execution_count": 8,
      "outputs": [
        {
          "output_type": "stream",
          "text": [
            "/usr/local/lib/python3.7/dist-packages/tensorflow/python/keras/engine/training.py:1844: UserWarning: `Model.fit_generator` is deprecated and will be removed in a future version. Please use `Model.fit`, which supports generators.\n",
            "  warnings.warn('`Model.fit_generator` is deprecated and '\n"
          ],
          "name": "stderr"
        },
        {
          "output_type": "stream",
          "text": [
            "Epoch 1/25\n",
            "1250/1250 [==============================] - 27s 19ms/step - loss: 1.7856 - acc: 0.3407 - val_loss: 1.5211 - val_acc: 0.4821\n",
            "Epoch 2/25\n",
            "1250/1250 [==============================] - 23s 18ms/step - loss: 1.2474 - acc: 0.5535 - val_loss: 1.2053 - val_acc: 0.5837\n",
            "Epoch 3/25\n",
            "1250/1250 [==============================] - 23s 18ms/step - loss: 1.0232 - acc: 0.6376 - val_loss: 1.0913 - val_acc: 0.6397\n",
            "Epoch 4/25\n",
            "1250/1250 [==============================] - 23s 19ms/step - loss: 0.9006 - acc: 0.6850 - val_loss: 0.9298 - val_acc: 0.6819\n",
            "Epoch 5/25\n",
            "1250/1250 [==============================] - 23s 18ms/step - loss: 0.8285 - acc: 0.7159 - val_loss: 0.7833 - val_acc: 0.7307\n",
            "Epoch 6/25\n",
            "1250/1250 [==============================] - 23s 19ms/step - loss: 0.7620 - acc: 0.7381 - val_loss: 0.8396 - val_acc: 0.7233\n",
            "Epoch 7/25\n",
            "1250/1250 [==============================] - 23s 18ms/step - loss: 0.7139 - acc: 0.7587 - val_loss: 0.7013 - val_acc: 0.7573\n",
            "Epoch 8/25\n",
            "1250/1250 [==============================] - 23s 19ms/step - loss: 0.6610 - acc: 0.7749 - val_loss: 0.7115 - val_acc: 0.7621\n",
            "Epoch 9/25\n",
            "1250/1250 [==============================] - 23s 18ms/step - loss: 0.6237 - acc: 0.7863 - val_loss: 0.6952 - val_acc: 0.7569\n",
            "Epoch 10/25\n",
            "1250/1250 [==============================] - 23s 18ms/step - loss: 0.6039 - acc: 0.7956 - val_loss: 0.6319 - val_acc: 0.7857\n",
            "Epoch 11/25\n",
            "1250/1250 [==============================] - 23s 18ms/step - loss: 0.5706 - acc: 0.8085 - val_loss: 0.6424 - val_acc: 0.7834\n",
            "Epoch 12/25\n",
            "1250/1250 [==============================] - 23s 18ms/step - loss: 0.5507 - acc: 0.8131 - val_loss: 0.6527 - val_acc: 0.7825\n",
            "Epoch 13/25\n",
            "1250/1250 [==============================] - 23s 19ms/step - loss: 0.5290 - acc: 0.8184 - val_loss: 0.5856 - val_acc: 0.7979\n",
            "Epoch 14/25\n",
            "1250/1250 [==============================] - 23s 18ms/step - loss: 0.5028 - acc: 0.8303 - val_loss: 0.5816 - val_acc: 0.8049\n",
            "Epoch 15/25\n",
            "1250/1250 [==============================] - 23s 19ms/step - loss: 0.4948 - acc: 0.8296 - val_loss: 0.5713 - val_acc: 0.8111\n",
            "Epoch 16/25\n",
            "1250/1250 [==============================] - 23s 18ms/step - loss: 0.4832 - acc: 0.8364 - val_loss: 0.5487 - val_acc: 0.8162\n",
            "Epoch 17/25\n",
            "1250/1250 [==============================] - 23s 19ms/step - loss: 0.4698 - acc: 0.8419 - val_loss: 0.5520 - val_acc: 0.8128\n",
            "Epoch 18/25\n",
            "1250/1250 [==============================] - 23s 19ms/step - loss: 0.4535 - acc: 0.8462 - val_loss: 0.5747 - val_acc: 0.8057\n",
            "Epoch 19/25\n",
            "1250/1250 [==============================] - 23s 19ms/step - loss: 0.4513 - acc: 0.8496 - val_loss: 0.4597 - val_acc: 0.8460\n",
            "Epoch 20/25\n",
            "1250/1250 [==============================] - 23s 19ms/step - loss: 0.4188 - acc: 0.8579 - val_loss: 0.4658 - val_acc: 0.8452\n",
            "Epoch 21/25\n",
            "1250/1250 [==============================] - 23s 18ms/step - loss: 0.4086 - acc: 0.8617 - val_loss: 0.5264 - val_acc: 0.8260\n",
            "Epoch 22/25\n",
            "1250/1250 [==============================] - 23s 19ms/step - loss: 0.4041 - acc: 0.8621 - val_loss: 0.5212 - val_acc: 0.8290\n",
            "Epoch 23/25\n",
            "1250/1250 [==============================] - 23s 19ms/step - loss: 0.4007 - acc: 0.8625 - val_loss: 0.5844 - val_acc: 0.8096\n",
            "Epoch 24/25\n",
            "1250/1250 [==============================] - 23s 18ms/step - loss: 0.3846 - acc: 0.8688 - val_loss: 0.4523 - val_acc: 0.8474\n",
            "Epoch 25/25\n",
            "1250/1250 [==============================] - 23s 19ms/step - loss: 0.3873 - acc: 0.8669 - val_loss: 0.4930 - val_acc: 0.8353\n"
          ],
          "name": "stdout"
        }
      ]
    },
    {
      "cell_type": "code",
      "metadata": {
        "colab": {
          "base_uri": "https://localhost:8080/",
          "height": 279
        },
        "id": "1gg9H4ncC8hN",
        "outputId": "66f390e1-26ab-47b9-da11-57db05b3b4ae"
      },
      "source": [
        "import matplotlib.pyplot as plt\n",
        "%matplotlib inline\n",
        "\n",
        "acc = history.history['acc']\n",
        "val_acc = history.history['val_acc']\n",
        "\n",
        "epochs = range(len(acc))\n",
        "\n",
        "plt.plot(epochs, acc, 'bo', label='Training acc')\n",
        "plt.plot(epochs, val_acc, 'r', label='Validation acc')\n",
        "plt.xlabel('Epochs')\n",
        "plt.ylabel('Accuracy')\n",
        "plt.legend()\n",
        "plt.show()"
      ],
      "execution_count": 9,
      "outputs": [
        {
          "output_type": "display_data",
          "data": {
            "image/png": "[encoded data removed]",
            "text/plain": [
              "<Figure size 432x288 with 1 Axes>"
            ]
          },
          "metadata": {
            "tags": [],
            "needs_background": "light"
          }
        }
      ]
    },
    {
      "cell_type": "markdown",
      "metadata": {
        "id": "fXXWAHDaBHtD"
      },
      "source": [
        "## 3. Train (again) and evaluate the model\n",
        "\n",
        "- To this end, you have found the \"best\" hyper-parameters. \n",
        "- Now, fix the hyper-parameters and train the network on the entire training set (all the 50K training samples)\n",
        "- Evaluate your model on the test set."
      ]
    },
    {
      "cell_type": "markdown",
      "metadata": {
        "id": "Ys2DZ73ZBHtD"
      },
      "source": [
        "### 3.1. Train the model on the entire training set\n",
        "\n",
        "Why? Previously, you used 40K samples for training; you wasted 10K samples for the sake of hyper-parameter tuning. Now you already know the hyper-parameters, so why not using all the 50K samples for training?"
      ]
    },
    {
      "cell_type": "code",
      "metadata": {
        "colab": {
          "base_uri": "https://localhost:8080/"
        },
        "id": "C8IOZzsxEZQF",
        "outputId": "13b248cf-3547-440c-fdeb-03cdc92760b2"
      },
      "source": [
        "from keras.preprocessing.image import ImageDataGenerator\n",
        "datagen = ImageDataGenerator(width_shift_range=0.1, height_shift_range=0.1, horizontal_flip=True)\n",
        "datagen.fit(x_train)\n",
        "it_train = datagen.flow(x_train, y_train_vec, batch_size=32)\n",
        "steps = int(x_train.shape[0] / 32)\n",
        "history = model.fit_generator(it_train, steps_per_epoch = steps, epochs = 25)"
      ],
      "execution_count": 10,
      "outputs": [
        {
          "output_type": "stream",
          "text": [
            "Epoch 1/25\n",
            "   7/1562 [..............................] - ETA: 29s - loss: 0.3050 - acc: 0.9018"
          ],
          "name": "stdout"
        },
        {
          "output_type": "stream",
          "text": [
            "/usr/local/lib/python3.7/dist-packages/tensorflow/python/keras/engine/training.py:1844: UserWarning: `Model.fit_generator` is deprecated and will be removed in a future version. Please use `Model.fit`, which supports generators.\n",
            "  warnings.warn('`Model.fit_generator` is deprecated and '\n"
          ],
          "name": "stderr"
        },
        {
          "output_type": "stream",
          "text": [
            "1562/1562 [==============================] - 28s 18ms/step - loss: 0.4079 - acc: 0.8607\n",
            "Epoch 2/25\n",
            "1562/1562 [==============================] - 28s 18ms/step - loss: 0.4004 - acc: 0.8650\n",
            "Epoch 3/25\n",
            "1562/1562 [==============================] - 28s 18ms/step - loss: 0.3846 - acc: 0.8697\n",
            "Epoch 4/25\n",
            "1562/1562 [==============================] - 28s 18ms/step - loss: 0.3755 - acc: 0.8722\n",
            "Epoch 5/25\n",
            "1562/1562 [==============================] - 28s 18ms/step - loss: 0.3721 - acc: 0.8730\n",
            "Epoch 6/25\n",
            "1562/1562 [==============================] - 28s 18ms/step - loss: 0.3613 - acc: 0.8758\n",
            "Epoch 7/25\n",
            "1562/1562 [==============================] - 28s 18ms/step - loss: 0.3540 - acc: 0.8796\n",
            "Epoch 8/25\n",
            "1562/1562 [==============================] - 28s 18ms/step - loss: 0.3489 - acc: 0.8825\n",
            "Epoch 9/25\n",
            "1562/1562 [==============================] - 28s 18ms/step - loss: 0.3364 - acc: 0.8854\n",
            "Epoch 10/25\n",
            "1562/1562 [==============================] - 28s 18ms/step - loss: 0.3348 - acc: 0.8867\n",
            "Epoch 11/25\n",
            "1562/1562 [==============================] - 28s 18ms/step - loss: 0.3257 - acc: 0.8885\n",
            "Epoch 12/25\n",
            "1562/1562 [==============================] - 28s 18ms/step - loss: 0.3220 - acc: 0.8900\n",
            "Epoch 13/25\n",
            "1562/1562 [==============================] - 28s 18ms/step - loss: 0.3208 - acc: 0.8917\n",
            "Epoch 14/25\n",
            "1562/1562 [==============================] - 28s 18ms/step - loss: 0.3103 - acc: 0.8928\n",
            "Epoch 15/25\n",
            "1562/1562 [==============================] - 28s 18ms/step - loss: 0.3084 - acc: 0.8946\n",
            "Epoch 16/25\n",
            "1562/1562 [==============================] - 28s 18ms/step - loss: 0.3011 - acc: 0.8960\n",
            "Epoch 17/25\n",
            "1562/1562 [==============================] - 28s 18ms/step - loss: 0.2946 - acc: 0.8978\n",
            "Epoch 18/25\n",
            "1562/1562 [==============================] - 28s 18ms/step - loss: 0.2890 - acc: 0.9008\n",
            "Epoch 19/25\n",
            "1562/1562 [==============================] - 28s 18ms/step - loss: 0.2896 - acc: 0.9015\n",
            "Epoch 20/25\n",
            "1562/1562 [==============================] - 28s 18ms/step - loss: 0.2878 - acc: 0.9003\n",
            "Epoch 21/25\n",
            "1562/1562 [==============================] - 28s 18ms/step - loss: 0.2750 - acc: 0.9049\n",
            "Epoch 22/25\n",
            "1562/1562 [==============================] - 28s 18ms/step - loss: 0.2730 - acc: 0.9076\n",
            "Epoch 23/25\n",
            "1562/1562 [==============================] - 28s 18ms/step - loss: 0.2719 - acc: 0.9062\n",
            "Epoch 24/25\n",
            "1562/1562 [==============================] - 28s 18ms/step - loss: 0.2672 - acc: 0.9088\n",
            "Epoch 25/25\n",
            "1562/1562 [==============================] - 28s 18ms/step - loss: 0.2640 - acc: 0.9089\n"
          ],
          "name": "stdout"
        }
      ]
    },
    {
      "cell_type": "markdown",
      "metadata": {
        "id": "0j7V7NWaBHtE"
      },
      "source": [
        "### 3.2. Evaluate the model on the test set\n",
        "\n",
        "Do NOT used the test set until now. Make sure that your model parameters and hyper-parameters are independent of the test set."
      ]
    },
    {
      "cell_type": "code",
      "metadata": {
        "id": "JKjYMgttBHtE",
        "colab": {
          "base_uri": "https://localhost:8080/"
        },
        "outputId": "6fdbb420-d4d5-491c-fe08-1f4c04ef1eea"
      },
      "source": [
        "loss_and_acc = model.evaluate(x_test, y_test_vec)\n",
        "print('loss = ' + str(loss_and_acc[0]))\n",
        "print('accuracy = ' + str(loss_and_acc[1]))"
      ],
      "execution_count": 11,
      "outputs": [
        {
          "output_type": "stream",
          "text": [
            "313/313 [==============================] - 1s 3ms/step - loss: 0.4079 - acc: 0.8676\n",
            "loss = 0.40787506103515625\n",
            "accuracy = 0.8676000237464905\n"
          ],
          "name": "stdout"
        }
      ]
    }
  ]
}